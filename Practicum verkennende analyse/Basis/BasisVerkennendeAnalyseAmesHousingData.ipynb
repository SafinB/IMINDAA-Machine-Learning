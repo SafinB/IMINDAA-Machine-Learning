{
 "cells": [
  {
   "cell_type": "markdown",
   "metadata": {},
   "source": [
    "# Verkennende analyse Ames Housing dataset\n",
    "\n",
    "In dit notebook doen we een verkennende analyse op een subset van de Ames Housing dataset. De Ames Housing dataset bevat data over huizen in Boston, met name ook de verkoopprijs. Het is een aangepaste versie van een dataset die vaak gebruikt wordt om regressiemodellen (om de verkoopprijs mee te voorspellen) te benchmarken.\n",
    "\n",
    "De dataset kun je vinden op Kaggle: [https://www.kaggle.com/competitions/house-prices-advanced-regression-techniques/data](https://www.kaggle.com/competitions/house-prices-advanced-regression-techniques/data).\n",
    "\n",
    "Het doel van de verkennende analyse is om een eerste inzicht in de data te krijgen zonder bezig te zijn met het beantwoorden van een specifieke onderzoeksvraag. Wel houden we in ons achterhoofd dat we de dataset mogelijk willen gebruiken voor machine learning.\n",
    "\n",
    "We zetten de verkennende analyse systematisch op door naar de volgende onderwerpen te kijken:\n",
    "- Data en data dictionary\n",
    "- De afzonderlijke variabelen\n",
    "- Relaties tussen de variabelen\n",
    "\n",
    "We beginnen zoals gebruikelijk met de import statements."
   ]
  },
  {
   "cell_type": "code",
   "execution_count": 1,
   "metadata": {},
   "outputs": [],
   "source": [
    "import pandas as pd\n",
    "import numpy as np\n",
    "import seaborn as sns\n",
    "\n",
    "import scipy.stats as stats"
   ]
  },
  {
   "cell_type": "markdown",
   "metadata": {},
   "source": [
    "## Data en data dictionary\n",
    "\n",
    "Hieronder lezen we de dataset in en tonen we enkele rijen."
   ]
  },
  {
   "cell_type": "code",
   "execution_count": 2,
   "metadata": {
    "scrolled": true
   },
   "outputs": [
    {
     "data": {
      "text/html": [
       "<div>\n",
       "<style scoped>\n",
       "    .dataframe tbody tr th:only-of-type {\n",
       "        vertical-align: middle;\n",
       "    }\n",
       "\n",
       "    .dataframe tbody tr th {\n",
       "        vertical-align: top;\n",
       "    }\n",
       "\n",
       "    .dataframe thead th {\n",
       "        text-align: right;\n",
       "    }\n",
       "</style>\n",
       "<table border=\"1\" class=\"dataframe\">\n",
       "  <thead>\n",
       "    <tr style=\"text-align: right;\">\n",
       "      <th></th>\n",
       "      <th>GrLivArea</th>\n",
       "      <th>LotShape</th>\n",
       "      <th>ExterQual</th>\n",
       "      <th>OverallQual</th>\n",
       "      <th>Neighborhood</th>\n",
       "      <th>TotRmsAbvGrd</th>\n",
       "      <th>SalePrice</th>\n",
       "    </tr>\n",
       "  </thead>\n",
       "  <tbody>\n",
       "    <tr>\n",
       "      <th>0</th>\n",
       "      <td>1710</td>\n",
       "      <td>Reg</td>\n",
       "      <td>Gd</td>\n",
       "      <td>7</td>\n",
       "      <td>CollgCr</td>\n",
       "      <td>8</td>\n",
       "      <td>208500</td>\n",
       "    </tr>\n",
       "    <tr>\n",
       "      <th>1</th>\n",
       "      <td>1262</td>\n",
       "      <td>Reg</td>\n",
       "      <td>TA</td>\n",
       "      <td>6</td>\n",
       "      <td>Veenker</td>\n",
       "      <td>6</td>\n",
       "      <td>181500</td>\n",
       "    </tr>\n",
       "    <tr>\n",
       "      <th>2</th>\n",
       "      <td>1786</td>\n",
       "      <td>IR1</td>\n",
       "      <td>Gd</td>\n",
       "      <td>7</td>\n",
       "      <td>CollgCr</td>\n",
       "      <td>6</td>\n",
       "      <td>223500</td>\n",
       "    </tr>\n",
       "    <tr>\n",
       "      <th>3</th>\n",
       "      <td>1717</td>\n",
       "      <td>IR1</td>\n",
       "      <td>TA</td>\n",
       "      <td>7</td>\n",
       "      <td>Crawfor</td>\n",
       "      <td>7</td>\n",
       "      <td>140000</td>\n",
       "    </tr>\n",
       "    <tr>\n",
       "      <th>4</th>\n",
       "      <td>2198</td>\n",
       "      <td>IR1</td>\n",
       "      <td>Gd</td>\n",
       "      <td>8</td>\n",
       "      <td>NoRidge</td>\n",
       "      <td>9</td>\n",
       "      <td>250000</td>\n",
       "    </tr>\n",
       "    <tr>\n",
       "      <th>...</th>\n",
       "      <td>...</td>\n",
       "      <td>...</td>\n",
       "      <td>...</td>\n",
       "      <td>...</td>\n",
       "      <td>...</td>\n",
       "      <td>...</td>\n",
       "      <td>...</td>\n",
       "    </tr>\n",
       "    <tr>\n",
       "      <th>1455</th>\n",
       "      <td>1647</td>\n",
       "      <td>Reg</td>\n",
       "      <td>TA</td>\n",
       "      <td>6</td>\n",
       "      <td>Gilbert</td>\n",
       "      <td>7</td>\n",
       "      <td>175000</td>\n",
       "    </tr>\n",
       "    <tr>\n",
       "      <th>1456</th>\n",
       "      <td>2073</td>\n",
       "      <td>Reg</td>\n",
       "      <td>TA</td>\n",
       "      <td>6</td>\n",
       "      <td>NWAmes</td>\n",
       "      <td>7</td>\n",
       "      <td>210000</td>\n",
       "    </tr>\n",
       "    <tr>\n",
       "      <th>1457</th>\n",
       "      <td>2340</td>\n",
       "      <td>Reg</td>\n",
       "      <td>Ex</td>\n",
       "      <td>7</td>\n",
       "      <td>Crawfor</td>\n",
       "      <td>9</td>\n",
       "      <td>266500</td>\n",
       "    </tr>\n",
       "    <tr>\n",
       "      <th>1458</th>\n",
       "      <td>1078</td>\n",
       "      <td>Reg</td>\n",
       "      <td>TA</td>\n",
       "      <td>5</td>\n",
       "      <td>NAmes</td>\n",
       "      <td>5</td>\n",
       "      <td>142125</td>\n",
       "    </tr>\n",
       "    <tr>\n",
       "      <th>1459</th>\n",
       "      <td>1256</td>\n",
       "      <td>Reg</td>\n",
       "      <td>Gd</td>\n",
       "      <td>5</td>\n",
       "      <td>Edwards</td>\n",
       "      <td>6</td>\n",
       "      <td>147500</td>\n",
       "    </tr>\n",
       "  </tbody>\n",
       "</table>\n",
       "<p>1460 rows × 7 columns</p>\n",
       "</div>"
      ],
      "text/plain": [
       "      GrLivArea LotShape ExterQual  OverallQual Neighborhood  TotRmsAbvGrd  \\\n",
       "0          1710      Reg        Gd            7      CollgCr             8   \n",
       "1          1262      Reg        TA            6      Veenker             6   \n",
       "2          1786      IR1        Gd            7      CollgCr             6   \n",
       "3          1717      IR1        TA            7      Crawfor             7   \n",
       "4          2198      IR1        Gd            8      NoRidge             9   \n",
       "...         ...      ...       ...          ...          ...           ...   \n",
       "1455       1647      Reg        TA            6      Gilbert             7   \n",
       "1456       2073      Reg        TA            6       NWAmes             7   \n",
       "1457       2340      Reg        Ex            7      Crawfor             9   \n",
       "1458       1078      Reg        TA            5        NAmes             5   \n",
       "1459       1256      Reg        Gd            5      Edwards             6   \n",
       "\n",
       "      SalePrice  \n",
       "0        208500  \n",
       "1        181500  \n",
       "2        223500  \n",
       "3        140000  \n",
       "4        250000  \n",
       "...         ...  \n",
       "1455     175000  \n",
       "1456     210000  \n",
       "1457     266500  \n",
       "1458     142125  \n",
       "1459     147500  \n",
       "\n",
       "[1460 rows x 7 columns]"
      ]
     },
     "execution_count": 2,
     "metadata": {},
     "output_type": "execute_result"
    }
   ],
   "source": [
    "ames_housing_data = pd.read_csv(\"ames_housing.csv\")\n",
    "# We werken met een subset van de dataset( die bevaat ongeveer 80) variabelen.\n",
    "ames_housing_data = ames_housing_data[[\n",
    "    \"GrLivArea\", \"LotShape\", \"ExterQual\", \"OverallQual\", \"Neighborhood\", \"TotRmsAbvGrd\", \"SalePrice\"]]\n",
    "ames_housing_data"
   ]
  },
  {
   "cell_type": "markdown",
   "metadata": {},
   "source": [
    "Op grond van het bekijken van de inhoud in bovenstaand dataframe en met behulp van de informatie op [Kaggle](https://www.kaggle.com/competitions/house-prices-advanced-regression-techniques/data) kunnen we komen de volgende data dictionary.\n",
    "\n",
    "| Variabele naam | Datatype | Numeriek/Categorisch | Soort variabele | Toelichting                                                                               |\n",
    "|----|----------|----------------------|------|-------------------------------------------------------------------------------------------|\n",
    "| GrLivArea | Integer  | Numeriek             | Ratio | De oppervlakte van het huis.                                                              |\n",
    "| LotShape | String   | Categorisch          | Ordinaal | De vorm van het huis.                                                                     |\n",
    "| ExterQual | String   | Categorisch          | Ordinaal | De kwaliteit van de buitenkant van het huis.                                              |\n",
    "| OverallQual | Integer  | Categorisch          | Ordinaal | De overall kwaliteit van het huis.                                      |\n",
    "| Neighborhood | String   | Categorisch          | Nominaal | De buurt waar het huis staat. |\n",
    "| TotRmsAbvGrd | Integer  | Numeriek             | Ratio | Het aantal kamers boven de grond (exclusief badkamers). |\n",
    "| SalePrice | Integer  | Numeriek             | Ratio | De verkoopprijs. |\n",
    "\n",
    "Merk op dat we OverallQual zien als categorisch ondanks het Integer datatype. Ik zie de cijfers als labels, niet als getal. We controleren welke datatypes pandas heeft toegekend."
   ]
  },
  {
   "cell_type": "code",
   "execution_count": 3,
   "metadata": {
    "scrolled": true
   },
   "outputs": [
    {
     "name": "stdout",
     "output_type": "stream",
     "text": [
      "<class 'pandas.core.frame.DataFrame'>\n",
      "RangeIndex: 1460 entries, 0 to 1459\n",
      "Data columns (total 7 columns):\n",
      " #   Column        Non-Null Count  Dtype \n",
      "---  ------        --------------  ----- \n",
      " 0   GrLivArea     1460 non-null   int64 \n",
      " 1   LotShape      1460 non-null   object\n",
      " 2   ExterQual     1460 non-null   object\n",
      " 3   OverallQual   1460 non-null   int64 \n",
      " 4   Neighborhood  1460 non-null   object\n",
      " 5   TotRmsAbvGrd  1460 non-null   int64 \n",
      " 6   SalePrice     1460 non-null   int64 \n",
      "dtypes: int64(4), object(3)\n",
      "memory usage: 80.0+ KB\n"
     ]
    }
   ],
   "source": [
    "ames_housing_data.info()"
   ]
  },
  {
   "cell_type": "markdown",
   "metadata": {},
   "source": [
    "Dat ziet er goed uit. Omdat we GrLivArea, TotRmsAbvGrd en SalePrice willen zien als ratio (vanwege het nulpunt) zouden we ze kunnen converteren naar float. Maar dat is niet echt nodig voor de analyse. Ook OverallQual zouden we kunnen converteren naar String en ook dat is niet echt nodig.\n",
    "\n",
    "## Afzonderlijke variabelen\n",
    "\n",
    "We gaan nu de afzonderlijke variabelen bekijken. Het is daarbij handig een onderscheid te maken tussen categorische en numerieke variabelen. Het is een goede gewoonte om een lijstje te maken met de namen van de categorische variabelen en de numerieke variabelen."
   ]
  },
  {
   "cell_type": "code",
   "execution_count": 4,
   "metadata": {},
   "outputs": [],
   "source": [
    "cat_vars = [\"LotShape\", \"ExterQual\", \"OverallQual\", \"Neighborhood\"]\n",
    "num_vars = [\"GrLivArea\", \"TotRmsAbvGrd\", \"SalePrice\"]"
   ]
  },
  {
   "cell_type": "markdown",
   "metadata": {},
   "source": [
    "### Categorische variabelen\n",
    "\n",
    "Nu bekijken we stuk voor stuk de categorische variabelen.\n",
    "\n",
    "#### LotShape\n",
    "\n",
    "LotShape zegt iets over de vorm van het huis. We zijn geïnteresseerd welke mogelijke waarden LotShape kan hebben en hoe vaak die voorkomen."
   ]
  },
  {
   "cell_type": "code",
   "execution_count": 5,
   "metadata": {},
   "outputs": [
    {
     "data": {
      "text/plain": [
       "Reg    925\n",
       "IR1    484\n",
       "IR2     41\n",
       "IR3     10\n",
       "Name: LotShape, dtype: int64"
      ]
     },
     "execution_count": 5,
     "metadata": {},
     "output_type": "execute_result"
    }
   ],
   "source": [
    "ames_housing_data[\"LotShape\"].value_counts()"
   ]
  },
  {
   "cell_type": "markdown",
   "metadata": {},
   "source": [
    "Wat opvalt is dat de meeste huizen de vorm 'Reg' of 'IR1' hebben en maar heel weinig 'IR2' of 'IR3'. Met behulp van de informatie op [Kaggle](https://www.kaggle.com/competitions/house-prices-advanced-regression-techniques/data) kunnen we ook het volgende zeggen over de betekenis van de waarden:\n",
    "\n",
    "       Reg\tRegular\n",
    "       IR1\tSlightly irregular\n",
    "       IR2\tModerately Irregular\n",
    "       IR3\tIrregular\n",
    "Dat ziet eruit zoals we willen. Nu bekijken we de LotShape in een frequentieverdeling."
   ]
  },
  {
   "cell_type": "code",
   "execution_count": 11,
   "metadata": {},
   "outputs": [
    {
     "ename": "ValueError",
     "evalue": "The truth value of a Series is ambiguous. Use a.empty, a.bool(), a.item(), a.any() or a.all().",
     "output_type": "error",
     "traceback": [
      "\u001b[1;31m---------------------------------------------------------------------------\u001b[0m",
      "\u001b[1;31mValueError\u001b[0m                                Traceback (most recent call last)",
      "\u001b[1;32m~\\AppData\\Local\\Temp\\ipykernel_2924\\2944094849.py\u001b[0m in \u001b[0;36m<module>\u001b[1;34m\u001b[0m\n\u001b[1;32m----> 1\u001b[1;33m \u001b[0msns\u001b[0m\u001b[1;33m.\u001b[0m\u001b[0mcountplot\u001b[0m\u001b[1;33m(\u001b[0m\u001b[0mames_housing_data\u001b[0m\u001b[1;33m,\u001b[0m \u001b[0mx\u001b[0m \u001b[1;33m=\u001b[0m \u001b[1;34m\"LotShape\"\u001b[0m\u001b[1;33m)\u001b[0m\u001b[1;33m\u001b[0m\u001b[1;33m\u001b[0m\u001b[0m\n\u001b[0m\u001b[0;32m      2\u001b[0m \u001b[0ma\u001b[0m\u001b[1;33m.\u001b[0m\u001b[0mall\u001b[0m\u001b[1;33m(\u001b[0m\u001b[1;33m)\u001b[0m\u001b[1;33m\u001b[0m\u001b[1;33m\u001b[0m\u001b[0m\n",
      "\u001b[1;32mC:\\ProgramData\\Anaconda3\\lib\\site-packages\\seaborn\\_decorators.py\u001b[0m in \u001b[0;36minner_f\u001b[1;34m(*args, **kwargs)\u001b[0m\n\u001b[0;32m     44\u001b[0m             )\n\u001b[0;32m     45\u001b[0m         \u001b[0mkwargs\u001b[0m\u001b[1;33m.\u001b[0m\u001b[0mupdate\u001b[0m\u001b[1;33m(\u001b[0m\u001b[1;33m{\u001b[0m\u001b[0mk\u001b[0m\u001b[1;33m:\u001b[0m \u001b[0marg\u001b[0m \u001b[1;32mfor\u001b[0m \u001b[0mk\u001b[0m\u001b[1;33m,\u001b[0m \u001b[0marg\u001b[0m \u001b[1;32min\u001b[0m \u001b[0mzip\u001b[0m\u001b[1;33m(\u001b[0m\u001b[0msig\u001b[0m\u001b[1;33m.\u001b[0m\u001b[0mparameters\u001b[0m\u001b[1;33m,\u001b[0m \u001b[0margs\u001b[0m\u001b[1;33m)\u001b[0m\u001b[1;33m}\u001b[0m\u001b[1;33m)\u001b[0m\u001b[1;33m\u001b[0m\u001b[1;33m\u001b[0m\u001b[0m\n\u001b[1;32m---> 46\u001b[1;33m         \u001b[1;32mreturn\u001b[0m \u001b[0mf\u001b[0m\u001b[1;33m(\u001b[0m\u001b[1;33m**\u001b[0m\u001b[0mkwargs\u001b[0m\u001b[1;33m)\u001b[0m\u001b[1;33m\u001b[0m\u001b[1;33m\u001b[0m\u001b[0m\n\u001b[0m\u001b[0;32m     47\u001b[0m     \u001b[1;32mreturn\u001b[0m \u001b[0minner_f\u001b[0m\u001b[1;33m\u001b[0m\u001b[1;33m\u001b[0m\u001b[0m\n\u001b[0;32m     48\u001b[0m \u001b[1;33m\u001b[0m\u001b[0m\n",
      "\u001b[1;32mC:\\ProgramData\\Anaconda3\\lib\\site-packages\\seaborn\\categorical.py\u001b[0m in \u001b[0;36mcountplot\u001b[1;34m(x, y, hue, data, order, hue_order, orient, color, palette, saturation, dodge, ax, **kwargs)\u001b[0m\n\u001b[0;32m   3596\u001b[0m         \u001b[1;32mraise\u001b[0m \u001b[0mValueError\u001b[0m\u001b[1;33m(\u001b[0m\u001b[1;34m\"Cannot pass values for both `x` and `y`\"\u001b[0m\u001b[1;33m)\u001b[0m\u001b[1;33m\u001b[0m\u001b[1;33m\u001b[0m\u001b[0m\n\u001b[0;32m   3597\u001b[0m \u001b[1;33m\u001b[0m\u001b[0m\n\u001b[1;32m-> 3598\u001b[1;33m     plotter = _CountPlotter(\n\u001b[0m\u001b[0;32m   3599\u001b[0m         \u001b[0mx\u001b[0m\u001b[1;33m,\u001b[0m \u001b[0my\u001b[0m\u001b[1;33m,\u001b[0m \u001b[0mhue\u001b[0m\u001b[1;33m,\u001b[0m \u001b[0mdata\u001b[0m\u001b[1;33m,\u001b[0m \u001b[0morder\u001b[0m\u001b[1;33m,\u001b[0m \u001b[0mhue_order\u001b[0m\u001b[1;33m,\u001b[0m\u001b[1;33m\u001b[0m\u001b[1;33m\u001b[0m\u001b[0m\n\u001b[0;32m   3600\u001b[0m         \u001b[0mestimator\u001b[0m\u001b[1;33m,\u001b[0m \u001b[0mci\u001b[0m\u001b[1;33m,\u001b[0m \u001b[0mn_boot\u001b[0m\u001b[1;33m,\u001b[0m \u001b[0munits\u001b[0m\u001b[1;33m,\u001b[0m \u001b[0mseed\u001b[0m\u001b[1;33m,\u001b[0m\u001b[1;33m\u001b[0m\u001b[1;33m\u001b[0m\u001b[0m\n",
      "\u001b[1;32mC:\\ProgramData\\Anaconda3\\lib\\site-packages\\seaborn\\categorical.py\u001b[0m in \u001b[0;36m__init__\u001b[1;34m(self, x, y, hue, data, order, hue_order, estimator, ci, n_boot, units, seed, orient, color, palette, saturation, errcolor, errwidth, capsize, dodge)\u001b[0m\n\u001b[0;32m   1582\u001b[0m                  errwidth, capsize, dodge):\n\u001b[0;32m   1583\u001b[0m         \u001b[1;34m\"\"\"Initialize the plotter.\"\"\"\u001b[0m\u001b[1;33m\u001b[0m\u001b[1;33m\u001b[0m\u001b[0m\n\u001b[1;32m-> 1584\u001b[1;33m         self.establish_variables(x, y, hue, data, orient,\n\u001b[0m\u001b[0;32m   1585\u001b[0m                                  order, hue_order, units)\n\u001b[0;32m   1586\u001b[0m         \u001b[0mself\u001b[0m\u001b[1;33m.\u001b[0m\u001b[0mestablish_colors\u001b[0m\u001b[1;33m(\u001b[0m\u001b[0mcolor\u001b[0m\u001b[1;33m,\u001b[0m \u001b[0mpalette\u001b[0m\u001b[1;33m,\u001b[0m \u001b[0msaturation\u001b[0m\u001b[1;33m)\u001b[0m\u001b[1;33m\u001b[0m\u001b[1;33m\u001b[0m\u001b[0m\n",
      "\u001b[1;32mC:\\ProgramData\\Anaconda3\\lib\\site-packages\\seaborn\\categorical.py\u001b[0m in \u001b[0;36mestablish_variables\u001b[1;34m(self, x, y, hue, data, orient, order, hue_order, units)\u001b[0m\n\u001b[0;32m    154\u001b[0m \u001b[1;33m\u001b[0m\u001b[0m\n\u001b[0;32m    155\u001b[0m             \u001b[1;31m# Figure out the plotting orientation\u001b[0m\u001b[1;33m\u001b[0m\u001b[1;33m\u001b[0m\u001b[0m\n\u001b[1;32m--> 156\u001b[1;33m             orient = infer_orient(\n\u001b[0m\u001b[0;32m    157\u001b[0m                 \u001b[0mx\u001b[0m\u001b[1;33m,\u001b[0m \u001b[0my\u001b[0m\u001b[1;33m,\u001b[0m \u001b[0morient\u001b[0m\u001b[1;33m,\u001b[0m \u001b[0mrequire_numeric\u001b[0m\u001b[1;33m=\u001b[0m\u001b[0mself\u001b[0m\u001b[1;33m.\u001b[0m\u001b[0mrequire_numeric\u001b[0m\u001b[1;33m\u001b[0m\u001b[1;33m\u001b[0m\u001b[0m\n\u001b[0;32m    158\u001b[0m             )\n",
      "\u001b[1;32mC:\\ProgramData\\Anaconda3\\lib\\site-packages\\seaborn\\_core.py\u001b[0m in \u001b[0;36minfer_orient\u001b[1;34m(x, y, orient, require_numeric)\u001b[0m\n\u001b[0;32m   1309\u001b[0m     \"\"\"\n\u001b[0;32m   1310\u001b[0m \u001b[1;33m\u001b[0m\u001b[0m\n\u001b[1;32m-> 1311\u001b[1;33m     \u001b[0mx_type\u001b[0m \u001b[1;33m=\u001b[0m \u001b[1;32mNone\u001b[0m \u001b[1;32mif\u001b[0m \u001b[0mx\u001b[0m \u001b[1;32mis\u001b[0m \u001b[1;32mNone\u001b[0m \u001b[1;32melse\u001b[0m \u001b[0mvariable_type\u001b[0m\u001b[1;33m(\u001b[0m\u001b[0mx\u001b[0m\u001b[1;33m)\u001b[0m\u001b[1;33m\u001b[0m\u001b[1;33m\u001b[0m\u001b[0m\n\u001b[0m\u001b[0;32m   1312\u001b[0m     \u001b[0my_type\u001b[0m \u001b[1;33m=\u001b[0m \u001b[1;32mNone\u001b[0m \u001b[1;32mif\u001b[0m \u001b[0my\u001b[0m \u001b[1;32mis\u001b[0m \u001b[1;32mNone\u001b[0m \u001b[1;32melse\u001b[0m \u001b[0mvariable_type\u001b[0m\u001b[1;33m(\u001b[0m\u001b[0my\u001b[0m\u001b[1;33m)\u001b[0m\u001b[1;33m\u001b[0m\u001b[1;33m\u001b[0m\u001b[0m\n\u001b[0;32m   1313\u001b[0m \u001b[1;33m\u001b[0m\u001b[0m\n",
      "\u001b[1;32mC:\\ProgramData\\Anaconda3\\lib\\site-packages\\seaborn\\_core.py\u001b[0m in \u001b[0;36mvariable_type\u001b[1;34m(vector, boolean_type)\u001b[0m\n\u001b[0;32m   1227\u001b[0m \u001b[1;33m\u001b[0m\u001b[0m\n\u001b[0;32m   1228\u001b[0m     \u001b[1;31m# Special-case all-na data, which is always \"numeric\"\u001b[0m\u001b[1;33m\u001b[0m\u001b[1;33m\u001b[0m\u001b[0m\n\u001b[1;32m-> 1229\u001b[1;33m     \u001b[1;32mif\u001b[0m \u001b[0mpd\u001b[0m\u001b[1;33m.\u001b[0m\u001b[0misna\u001b[0m\u001b[1;33m(\u001b[0m\u001b[0mvector\u001b[0m\u001b[1;33m)\u001b[0m\u001b[1;33m.\u001b[0m\u001b[0mall\u001b[0m\u001b[1;33m(\u001b[0m\u001b[1;33m)\u001b[0m\u001b[1;33m:\u001b[0m\u001b[1;33m\u001b[0m\u001b[1;33m\u001b[0m\u001b[0m\n\u001b[0m\u001b[0;32m   1230\u001b[0m         \u001b[1;32mreturn\u001b[0m \u001b[1;34m\"numeric\"\u001b[0m\u001b[1;33m\u001b[0m\u001b[1;33m\u001b[0m\u001b[0m\n\u001b[0;32m   1231\u001b[0m \u001b[1;33m\u001b[0m\u001b[0m\n",
      "\u001b[1;32mC:\\ProgramData\\Anaconda3\\lib\\site-packages\\pandas\\core\\generic.py\u001b[0m in \u001b[0;36m__nonzero__\u001b[1;34m(self)\u001b[0m\n\u001b[0;32m   1525\u001b[0m     \u001b[1;33m@\u001b[0m\u001b[0mfinal\u001b[0m\u001b[1;33m\u001b[0m\u001b[1;33m\u001b[0m\u001b[0m\n\u001b[0;32m   1526\u001b[0m     \u001b[1;32mdef\u001b[0m \u001b[0m__nonzero__\u001b[0m\u001b[1;33m(\u001b[0m\u001b[0mself\u001b[0m\u001b[1;33m)\u001b[0m\u001b[1;33m:\u001b[0m\u001b[1;33m\u001b[0m\u001b[1;33m\u001b[0m\u001b[0m\n\u001b[1;32m-> 1527\u001b[1;33m         raise ValueError(\n\u001b[0m\u001b[0;32m   1528\u001b[0m             \u001b[1;34mf\"The truth value of a {type(self).__name__} is ambiguous. \"\u001b[0m\u001b[1;33m\u001b[0m\u001b[1;33m\u001b[0m\u001b[0m\n\u001b[0;32m   1529\u001b[0m             \u001b[1;34m\"Use a.empty, a.bool(), a.item(), a.any() or a.all().\"\u001b[0m\u001b[1;33m\u001b[0m\u001b[1;33m\u001b[0m\u001b[0m\n",
      "\u001b[1;31mValueError\u001b[0m: The truth value of a Series is ambiguous. Use a.empty, a.bool(), a.item(), a.any() or a.all()."
     ]
    }
   ],
   "source": [
    "sns.countplot(ames_housing_data, x = \"LotShape\")"
   ]
  },
  {
   "cell_type": "markdown",
   "metadata": {},
   "source": [
    "We zien hier opnieuw de dat de meeste huizen Reg of IR1 zijn.\n",
    "\n",
    "#### ExterQual\n",
    "\n",
    "Ook voor ExterQual, de kwaliteit van de buitenkant van het huis, bekijken we de mogelijke waarden."
   ]
  },
  {
   "cell_type": "code",
   "execution_count": 12,
   "metadata": {},
   "outputs": [
    {
     "data": {
      "text/plain": [
       "TA    906\n",
       "Gd    488\n",
       "Ex     52\n",
       "Fa     14\n",
       "Name: ExterQual, dtype: int64"
      ]
     },
     "execution_count": 12,
     "metadata": {},
     "output_type": "execute_result"
    }
   ],
   "source": [
    "ames_housing_data[\"ExterQual\"].value_counts()"
   ]
  },
  {
   "cell_type": "markdown",
   "metadata": {},
   "source": [
    "We gebruiken weer de toelichting op Kaggle om deze waarden beter te begrijpen:\n",
    "\n",
    "       Ex\tExcellent\n",
    "       Gd\tGood\n",
    "       TA\tAverage/Typical\n",
    "       Fa\tFair\n",
    "       Po\tPoor\n",
    "\n",
    "Merk op dat Po (Poor) niet in onze data voorkomt.\n",
    "\n",
    "We maken ook een frequentieverdeling."
   ]
  },
  {
   "cell_type": "code",
   "execution_count": 13,
   "metadata": {},
   "outputs": [
    {
     "name": "stderr",
     "output_type": "stream",
     "text": [
      "C:\\ProgramData\\Anaconda3\\lib\\site-packages\\seaborn\\_decorators.py:36: FutureWarning: Pass the following variable as a keyword arg: x. From version 0.12, the only valid positional argument will be `data`, and passing other arguments without an explicit keyword will result in an error or misinterpretation.\n",
      "  warnings.warn(\n"
     ]
    },
    {
     "ename": "ValueError",
     "evalue": "The truth value of a Series is ambiguous. Use a.empty, a.bool(), a.item(), a.any() or a.all().",
     "output_type": "error",
     "traceback": [
      "\u001b[1;31m---------------------------------------------------------------------------\u001b[0m",
      "\u001b[1;31mValueError\u001b[0m                                Traceback (most recent call last)",
      "\u001b[1;32m~\\AppData\\Local\\Temp\\ipykernel_2924\\2756336307.py\u001b[0m in \u001b[0;36m<module>\u001b[1;34m\u001b[0m\n\u001b[1;32m----> 1\u001b[1;33m \u001b[0msns\u001b[0m\u001b[1;33m.\u001b[0m\u001b[0mcountplot\u001b[0m\u001b[1;33m(\u001b[0m\u001b[0mames_housing_data\u001b[0m\u001b[1;33m,\u001b[0m \u001b[0mx\u001b[0m\u001b[1;33m=\u001b[0m\u001b[1;34m\"ExterQual\"\u001b[0m\u001b[1;33m)\u001b[0m\u001b[1;33m\u001b[0m\u001b[1;33m\u001b[0m\u001b[0m\n\u001b[0m",
      "\u001b[1;32mC:\\ProgramData\\Anaconda3\\lib\\site-packages\\seaborn\\_decorators.py\u001b[0m in \u001b[0;36minner_f\u001b[1;34m(*args, **kwargs)\u001b[0m\n\u001b[0;32m     44\u001b[0m             )\n\u001b[0;32m     45\u001b[0m         \u001b[0mkwargs\u001b[0m\u001b[1;33m.\u001b[0m\u001b[0mupdate\u001b[0m\u001b[1;33m(\u001b[0m\u001b[1;33m{\u001b[0m\u001b[0mk\u001b[0m\u001b[1;33m:\u001b[0m \u001b[0marg\u001b[0m \u001b[1;32mfor\u001b[0m \u001b[0mk\u001b[0m\u001b[1;33m,\u001b[0m \u001b[0marg\u001b[0m \u001b[1;32min\u001b[0m \u001b[0mzip\u001b[0m\u001b[1;33m(\u001b[0m\u001b[0msig\u001b[0m\u001b[1;33m.\u001b[0m\u001b[0mparameters\u001b[0m\u001b[1;33m,\u001b[0m \u001b[0margs\u001b[0m\u001b[1;33m)\u001b[0m\u001b[1;33m}\u001b[0m\u001b[1;33m)\u001b[0m\u001b[1;33m\u001b[0m\u001b[1;33m\u001b[0m\u001b[0m\n\u001b[1;32m---> 46\u001b[1;33m         \u001b[1;32mreturn\u001b[0m \u001b[0mf\u001b[0m\u001b[1;33m(\u001b[0m\u001b[1;33m**\u001b[0m\u001b[0mkwargs\u001b[0m\u001b[1;33m)\u001b[0m\u001b[1;33m\u001b[0m\u001b[1;33m\u001b[0m\u001b[0m\n\u001b[0m\u001b[0;32m     47\u001b[0m     \u001b[1;32mreturn\u001b[0m \u001b[0minner_f\u001b[0m\u001b[1;33m\u001b[0m\u001b[1;33m\u001b[0m\u001b[0m\n\u001b[0;32m     48\u001b[0m \u001b[1;33m\u001b[0m\u001b[0m\n",
      "\u001b[1;32mC:\\ProgramData\\Anaconda3\\lib\\site-packages\\seaborn\\categorical.py\u001b[0m in \u001b[0;36mcountplot\u001b[1;34m(x, y, hue, data, order, hue_order, orient, color, palette, saturation, dodge, ax, **kwargs)\u001b[0m\n\u001b[0;32m   3596\u001b[0m         \u001b[1;32mraise\u001b[0m \u001b[0mValueError\u001b[0m\u001b[1;33m(\u001b[0m\u001b[1;34m\"Cannot pass values for both `x` and `y`\"\u001b[0m\u001b[1;33m)\u001b[0m\u001b[1;33m\u001b[0m\u001b[1;33m\u001b[0m\u001b[0m\n\u001b[0;32m   3597\u001b[0m \u001b[1;33m\u001b[0m\u001b[0m\n\u001b[1;32m-> 3598\u001b[1;33m     plotter = _CountPlotter(\n\u001b[0m\u001b[0;32m   3599\u001b[0m         \u001b[0mx\u001b[0m\u001b[1;33m,\u001b[0m \u001b[0my\u001b[0m\u001b[1;33m,\u001b[0m \u001b[0mhue\u001b[0m\u001b[1;33m,\u001b[0m \u001b[0mdata\u001b[0m\u001b[1;33m,\u001b[0m \u001b[0morder\u001b[0m\u001b[1;33m,\u001b[0m \u001b[0mhue_order\u001b[0m\u001b[1;33m,\u001b[0m\u001b[1;33m\u001b[0m\u001b[1;33m\u001b[0m\u001b[0m\n\u001b[0;32m   3600\u001b[0m         \u001b[0mestimator\u001b[0m\u001b[1;33m,\u001b[0m \u001b[0mci\u001b[0m\u001b[1;33m,\u001b[0m \u001b[0mn_boot\u001b[0m\u001b[1;33m,\u001b[0m \u001b[0munits\u001b[0m\u001b[1;33m,\u001b[0m \u001b[0mseed\u001b[0m\u001b[1;33m,\u001b[0m\u001b[1;33m\u001b[0m\u001b[1;33m\u001b[0m\u001b[0m\n",
      "\u001b[1;32mC:\\ProgramData\\Anaconda3\\lib\\site-packages\\seaborn\\categorical.py\u001b[0m in \u001b[0;36m__init__\u001b[1;34m(self, x, y, hue, data, order, hue_order, estimator, ci, n_boot, units, seed, orient, color, palette, saturation, errcolor, errwidth, capsize, dodge)\u001b[0m\n\u001b[0;32m   1582\u001b[0m                  errwidth, capsize, dodge):\n\u001b[0;32m   1583\u001b[0m         \u001b[1;34m\"\"\"Initialize the plotter.\"\"\"\u001b[0m\u001b[1;33m\u001b[0m\u001b[1;33m\u001b[0m\u001b[0m\n\u001b[1;32m-> 1584\u001b[1;33m         self.establish_variables(x, y, hue, data, orient,\n\u001b[0m\u001b[0;32m   1585\u001b[0m                                  order, hue_order, units)\n\u001b[0;32m   1586\u001b[0m         \u001b[0mself\u001b[0m\u001b[1;33m.\u001b[0m\u001b[0mestablish_colors\u001b[0m\u001b[1;33m(\u001b[0m\u001b[0mcolor\u001b[0m\u001b[1;33m,\u001b[0m \u001b[0mpalette\u001b[0m\u001b[1;33m,\u001b[0m \u001b[0msaturation\u001b[0m\u001b[1;33m)\u001b[0m\u001b[1;33m\u001b[0m\u001b[1;33m\u001b[0m\u001b[0m\n",
      "\u001b[1;32mC:\\ProgramData\\Anaconda3\\lib\\site-packages\\seaborn\\categorical.py\u001b[0m in \u001b[0;36mestablish_variables\u001b[1;34m(self, x, y, hue, data, orient, order, hue_order, units)\u001b[0m\n\u001b[0;32m    154\u001b[0m \u001b[1;33m\u001b[0m\u001b[0m\n\u001b[0;32m    155\u001b[0m             \u001b[1;31m# Figure out the plotting orientation\u001b[0m\u001b[1;33m\u001b[0m\u001b[1;33m\u001b[0m\u001b[0m\n\u001b[1;32m--> 156\u001b[1;33m             orient = infer_orient(\n\u001b[0m\u001b[0;32m    157\u001b[0m                 \u001b[0mx\u001b[0m\u001b[1;33m,\u001b[0m \u001b[0my\u001b[0m\u001b[1;33m,\u001b[0m \u001b[0morient\u001b[0m\u001b[1;33m,\u001b[0m \u001b[0mrequire_numeric\u001b[0m\u001b[1;33m=\u001b[0m\u001b[0mself\u001b[0m\u001b[1;33m.\u001b[0m\u001b[0mrequire_numeric\u001b[0m\u001b[1;33m\u001b[0m\u001b[1;33m\u001b[0m\u001b[0m\n\u001b[0;32m    158\u001b[0m             )\n",
      "\u001b[1;32mC:\\ProgramData\\Anaconda3\\lib\\site-packages\\seaborn\\_core.py\u001b[0m in \u001b[0;36minfer_orient\u001b[1;34m(x, y, orient, require_numeric)\u001b[0m\n\u001b[0;32m   1309\u001b[0m     \"\"\"\n\u001b[0;32m   1310\u001b[0m \u001b[1;33m\u001b[0m\u001b[0m\n\u001b[1;32m-> 1311\u001b[1;33m     \u001b[0mx_type\u001b[0m \u001b[1;33m=\u001b[0m \u001b[1;32mNone\u001b[0m \u001b[1;32mif\u001b[0m \u001b[0mx\u001b[0m \u001b[1;32mis\u001b[0m \u001b[1;32mNone\u001b[0m \u001b[1;32melse\u001b[0m \u001b[0mvariable_type\u001b[0m\u001b[1;33m(\u001b[0m\u001b[0mx\u001b[0m\u001b[1;33m)\u001b[0m\u001b[1;33m\u001b[0m\u001b[1;33m\u001b[0m\u001b[0m\n\u001b[0m\u001b[0;32m   1312\u001b[0m     \u001b[0my_type\u001b[0m \u001b[1;33m=\u001b[0m \u001b[1;32mNone\u001b[0m \u001b[1;32mif\u001b[0m \u001b[0my\u001b[0m \u001b[1;32mis\u001b[0m \u001b[1;32mNone\u001b[0m \u001b[1;32melse\u001b[0m \u001b[0mvariable_type\u001b[0m\u001b[1;33m(\u001b[0m\u001b[0my\u001b[0m\u001b[1;33m)\u001b[0m\u001b[1;33m\u001b[0m\u001b[1;33m\u001b[0m\u001b[0m\n\u001b[0;32m   1313\u001b[0m \u001b[1;33m\u001b[0m\u001b[0m\n",
      "\u001b[1;32mC:\\ProgramData\\Anaconda3\\lib\\site-packages\\seaborn\\_core.py\u001b[0m in \u001b[0;36mvariable_type\u001b[1;34m(vector, boolean_type)\u001b[0m\n\u001b[0;32m   1227\u001b[0m \u001b[1;33m\u001b[0m\u001b[0m\n\u001b[0;32m   1228\u001b[0m     \u001b[1;31m# Special-case all-na data, which is always \"numeric\"\u001b[0m\u001b[1;33m\u001b[0m\u001b[1;33m\u001b[0m\u001b[0m\n\u001b[1;32m-> 1229\u001b[1;33m     \u001b[1;32mif\u001b[0m \u001b[0mpd\u001b[0m\u001b[1;33m.\u001b[0m\u001b[0misna\u001b[0m\u001b[1;33m(\u001b[0m\u001b[0mvector\u001b[0m\u001b[1;33m)\u001b[0m\u001b[1;33m.\u001b[0m\u001b[0mall\u001b[0m\u001b[1;33m(\u001b[0m\u001b[1;33m)\u001b[0m\u001b[1;33m:\u001b[0m\u001b[1;33m\u001b[0m\u001b[1;33m\u001b[0m\u001b[0m\n\u001b[0m\u001b[0;32m   1230\u001b[0m         \u001b[1;32mreturn\u001b[0m \u001b[1;34m\"numeric\"\u001b[0m\u001b[1;33m\u001b[0m\u001b[1;33m\u001b[0m\u001b[0m\n\u001b[0;32m   1231\u001b[0m \u001b[1;33m\u001b[0m\u001b[0m\n",
      "\u001b[1;32mC:\\ProgramData\\Anaconda3\\lib\\site-packages\\pandas\\core\\generic.py\u001b[0m in \u001b[0;36m__nonzero__\u001b[1;34m(self)\u001b[0m\n\u001b[0;32m   1525\u001b[0m     \u001b[1;33m@\u001b[0m\u001b[0mfinal\u001b[0m\u001b[1;33m\u001b[0m\u001b[1;33m\u001b[0m\u001b[0m\n\u001b[0;32m   1526\u001b[0m     \u001b[1;32mdef\u001b[0m \u001b[0m__nonzero__\u001b[0m\u001b[1;33m(\u001b[0m\u001b[0mself\u001b[0m\u001b[1;33m)\u001b[0m\u001b[1;33m:\u001b[0m\u001b[1;33m\u001b[0m\u001b[1;33m\u001b[0m\u001b[0m\n\u001b[1;32m-> 1527\u001b[1;33m         raise ValueError(\n\u001b[0m\u001b[0;32m   1528\u001b[0m             \u001b[1;34mf\"The truth value of a {type(self).__name__} is ambiguous. \"\u001b[0m\u001b[1;33m\u001b[0m\u001b[1;33m\u001b[0m\u001b[0m\n\u001b[0;32m   1529\u001b[0m             \u001b[1;34m\"Use a.empty, a.bool(), a.item(), a.any() or a.all().\"\u001b[0m\u001b[1;33m\u001b[0m\u001b[1;33m\u001b[0m\u001b[0m\n",
      "\u001b[1;31mValueError\u001b[0m: The truth value of a Series is ambiguous. Use a.empty, a.bool(), a.item(), a.any() or a.all()."
     ]
    }
   ],
   "source": [
    "sns.countplot(ames_housing_data, x=\"ExterQual\")"
   ]
  },
  {
   "cell_type": "markdown",
   "metadata": {},
   "source": [
    "Bovenstaande grafiek willen we verbeteren. Want we willen dat de waarden op de goede volgorde staan, van slechte kwaliteit naar goede kwaliteit."
   ]
  },
  {
   "cell_type": "code",
   "execution_count": 14,
   "metadata": {},
   "outputs": [
    {
     "ename": "ValueError",
     "evalue": "The truth value of a Series is ambiguous. Use a.empty, a.bool(), a.item(), a.any() or a.all().",
     "output_type": "error",
     "traceback": [
      "\u001b[1;31m---------------------------------------------------------------------------\u001b[0m",
      "\u001b[1;31mValueError\u001b[0m                                Traceback (most recent call last)",
      "\u001b[1;32m~\\AppData\\Local\\Temp\\ipykernel_2924\\2710536094.py\u001b[0m in \u001b[0;36m<module>\u001b[1;34m\u001b[0m\n\u001b[0;32m      1\u001b[0m \u001b[0mExterQual_order\u001b[0m \u001b[1;33m=\u001b[0m \u001b[1;33m[\u001b[0m\u001b[1;34m\"Po\"\u001b[0m\u001b[1;33m,\u001b[0m \u001b[1;34m\"Fa\"\u001b[0m\u001b[1;33m,\u001b[0m \u001b[1;34m\"TA\"\u001b[0m\u001b[1;33m,\u001b[0m \u001b[1;34m\"Gd\"\u001b[0m\u001b[1;33m,\u001b[0m \u001b[1;34m\"Ex\"\u001b[0m\u001b[1;33m]\u001b[0m\u001b[1;33m\u001b[0m\u001b[1;33m\u001b[0m\u001b[0m\n\u001b[1;32m----> 2\u001b[1;33m \u001b[0msns\u001b[0m\u001b[1;33m.\u001b[0m\u001b[0mcountplot\u001b[0m\u001b[1;33m(\u001b[0m\u001b[0mames_housing_data\u001b[0m\u001b[1;33m,\u001b[0m \u001b[0mx\u001b[0m\u001b[1;33m=\u001b[0m\u001b[1;34m\"ExterQual\"\u001b[0m\u001b[1;33m,\u001b[0m \u001b[0morder\u001b[0m\u001b[1;33m=\u001b[0m\u001b[0mExterQual_order\u001b[0m\u001b[1;33m)\u001b[0m\u001b[1;33m\u001b[0m\u001b[1;33m\u001b[0m\u001b[0m\n\u001b[0m",
      "\u001b[1;32mC:\\ProgramData\\Anaconda3\\lib\\site-packages\\seaborn\\_decorators.py\u001b[0m in \u001b[0;36minner_f\u001b[1;34m(*args, **kwargs)\u001b[0m\n\u001b[0;32m     44\u001b[0m             )\n\u001b[0;32m     45\u001b[0m         \u001b[0mkwargs\u001b[0m\u001b[1;33m.\u001b[0m\u001b[0mupdate\u001b[0m\u001b[1;33m(\u001b[0m\u001b[1;33m{\u001b[0m\u001b[0mk\u001b[0m\u001b[1;33m:\u001b[0m \u001b[0marg\u001b[0m \u001b[1;32mfor\u001b[0m \u001b[0mk\u001b[0m\u001b[1;33m,\u001b[0m \u001b[0marg\u001b[0m \u001b[1;32min\u001b[0m \u001b[0mzip\u001b[0m\u001b[1;33m(\u001b[0m\u001b[0msig\u001b[0m\u001b[1;33m.\u001b[0m\u001b[0mparameters\u001b[0m\u001b[1;33m,\u001b[0m \u001b[0margs\u001b[0m\u001b[1;33m)\u001b[0m\u001b[1;33m}\u001b[0m\u001b[1;33m)\u001b[0m\u001b[1;33m\u001b[0m\u001b[1;33m\u001b[0m\u001b[0m\n\u001b[1;32m---> 46\u001b[1;33m         \u001b[1;32mreturn\u001b[0m \u001b[0mf\u001b[0m\u001b[1;33m(\u001b[0m\u001b[1;33m**\u001b[0m\u001b[0mkwargs\u001b[0m\u001b[1;33m)\u001b[0m\u001b[1;33m\u001b[0m\u001b[1;33m\u001b[0m\u001b[0m\n\u001b[0m\u001b[0;32m     47\u001b[0m     \u001b[1;32mreturn\u001b[0m \u001b[0minner_f\u001b[0m\u001b[1;33m\u001b[0m\u001b[1;33m\u001b[0m\u001b[0m\n\u001b[0;32m     48\u001b[0m \u001b[1;33m\u001b[0m\u001b[0m\n",
      "\u001b[1;32mC:\\ProgramData\\Anaconda3\\lib\\site-packages\\seaborn\\categorical.py\u001b[0m in \u001b[0;36mcountplot\u001b[1;34m(x, y, hue, data, order, hue_order, orient, color, palette, saturation, dodge, ax, **kwargs)\u001b[0m\n\u001b[0;32m   3596\u001b[0m         \u001b[1;32mraise\u001b[0m \u001b[0mValueError\u001b[0m\u001b[1;33m(\u001b[0m\u001b[1;34m\"Cannot pass values for both `x` and `y`\"\u001b[0m\u001b[1;33m)\u001b[0m\u001b[1;33m\u001b[0m\u001b[1;33m\u001b[0m\u001b[0m\n\u001b[0;32m   3597\u001b[0m \u001b[1;33m\u001b[0m\u001b[0m\n\u001b[1;32m-> 3598\u001b[1;33m     plotter = _CountPlotter(\n\u001b[0m\u001b[0;32m   3599\u001b[0m         \u001b[0mx\u001b[0m\u001b[1;33m,\u001b[0m \u001b[0my\u001b[0m\u001b[1;33m,\u001b[0m \u001b[0mhue\u001b[0m\u001b[1;33m,\u001b[0m \u001b[0mdata\u001b[0m\u001b[1;33m,\u001b[0m \u001b[0morder\u001b[0m\u001b[1;33m,\u001b[0m \u001b[0mhue_order\u001b[0m\u001b[1;33m,\u001b[0m\u001b[1;33m\u001b[0m\u001b[1;33m\u001b[0m\u001b[0m\n\u001b[0;32m   3600\u001b[0m         \u001b[0mestimator\u001b[0m\u001b[1;33m,\u001b[0m \u001b[0mci\u001b[0m\u001b[1;33m,\u001b[0m \u001b[0mn_boot\u001b[0m\u001b[1;33m,\u001b[0m \u001b[0munits\u001b[0m\u001b[1;33m,\u001b[0m \u001b[0mseed\u001b[0m\u001b[1;33m,\u001b[0m\u001b[1;33m\u001b[0m\u001b[1;33m\u001b[0m\u001b[0m\n",
      "\u001b[1;32mC:\\ProgramData\\Anaconda3\\lib\\site-packages\\seaborn\\categorical.py\u001b[0m in \u001b[0;36m__init__\u001b[1;34m(self, x, y, hue, data, order, hue_order, estimator, ci, n_boot, units, seed, orient, color, palette, saturation, errcolor, errwidth, capsize, dodge)\u001b[0m\n\u001b[0;32m   1582\u001b[0m                  errwidth, capsize, dodge):\n\u001b[0;32m   1583\u001b[0m         \u001b[1;34m\"\"\"Initialize the plotter.\"\"\"\u001b[0m\u001b[1;33m\u001b[0m\u001b[1;33m\u001b[0m\u001b[0m\n\u001b[1;32m-> 1584\u001b[1;33m         self.establish_variables(x, y, hue, data, orient,\n\u001b[0m\u001b[0;32m   1585\u001b[0m                                  order, hue_order, units)\n\u001b[0;32m   1586\u001b[0m         \u001b[0mself\u001b[0m\u001b[1;33m.\u001b[0m\u001b[0mestablish_colors\u001b[0m\u001b[1;33m(\u001b[0m\u001b[0mcolor\u001b[0m\u001b[1;33m,\u001b[0m \u001b[0mpalette\u001b[0m\u001b[1;33m,\u001b[0m \u001b[0msaturation\u001b[0m\u001b[1;33m)\u001b[0m\u001b[1;33m\u001b[0m\u001b[1;33m\u001b[0m\u001b[0m\n",
      "\u001b[1;32mC:\\ProgramData\\Anaconda3\\lib\\site-packages\\seaborn\\categorical.py\u001b[0m in \u001b[0;36mestablish_variables\u001b[1;34m(self, x, y, hue, data, orient, order, hue_order, units)\u001b[0m\n\u001b[0;32m    154\u001b[0m \u001b[1;33m\u001b[0m\u001b[0m\n\u001b[0;32m    155\u001b[0m             \u001b[1;31m# Figure out the plotting orientation\u001b[0m\u001b[1;33m\u001b[0m\u001b[1;33m\u001b[0m\u001b[0m\n\u001b[1;32m--> 156\u001b[1;33m             orient = infer_orient(\n\u001b[0m\u001b[0;32m    157\u001b[0m                 \u001b[0mx\u001b[0m\u001b[1;33m,\u001b[0m \u001b[0my\u001b[0m\u001b[1;33m,\u001b[0m \u001b[0morient\u001b[0m\u001b[1;33m,\u001b[0m \u001b[0mrequire_numeric\u001b[0m\u001b[1;33m=\u001b[0m\u001b[0mself\u001b[0m\u001b[1;33m.\u001b[0m\u001b[0mrequire_numeric\u001b[0m\u001b[1;33m\u001b[0m\u001b[1;33m\u001b[0m\u001b[0m\n\u001b[0;32m    158\u001b[0m             )\n",
      "\u001b[1;32mC:\\ProgramData\\Anaconda3\\lib\\site-packages\\seaborn\\_core.py\u001b[0m in \u001b[0;36minfer_orient\u001b[1;34m(x, y, orient, require_numeric)\u001b[0m\n\u001b[0;32m   1309\u001b[0m     \"\"\"\n\u001b[0;32m   1310\u001b[0m \u001b[1;33m\u001b[0m\u001b[0m\n\u001b[1;32m-> 1311\u001b[1;33m     \u001b[0mx_type\u001b[0m \u001b[1;33m=\u001b[0m \u001b[1;32mNone\u001b[0m \u001b[1;32mif\u001b[0m \u001b[0mx\u001b[0m \u001b[1;32mis\u001b[0m \u001b[1;32mNone\u001b[0m \u001b[1;32melse\u001b[0m \u001b[0mvariable_type\u001b[0m\u001b[1;33m(\u001b[0m\u001b[0mx\u001b[0m\u001b[1;33m)\u001b[0m\u001b[1;33m\u001b[0m\u001b[1;33m\u001b[0m\u001b[0m\n\u001b[0m\u001b[0;32m   1312\u001b[0m     \u001b[0my_type\u001b[0m \u001b[1;33m=\u001b[0m \u001b[1;32mNone\u001b[0m \u001b[1;32mif\u001b[0m \u001b[0my\u001b[0m \u001b[1;32mis\u001b[0m \u001b[1;32mNone\u001b[0m \u001b[1;32melse\u001b[0m \u001b[0mvariable_type\u001b[0m\u001b[1;33m(\u001b[0m\u001b[0my\u001b[0m\u001b[1;33m)\u001b[0m\u001b[1;33m\u001b[0m\u001b[1;33m\u001b[0m\u001b[0m\n\u001b[0;32m   1313\u001b[0m \u001b[1;33m\u001b[0m\u001b[0m\n",
      "\u001b[1;32mC:\\ProgramData\\Anaconda3\\lib\\site-packages\\seaborn\\_core.py\u001b[0m in \u001b[0;36mvariable_type\u001b[1;34m(vector, boolean_type)\u001b[0m\n\u001b[0;32m   1227\u001b[0m \u001b[1;33m\u001b[0m\u001b[0m\n\u001b[0;32m   1228\u001b[0m     \u001b[1;31m# Special-case all-na data, which is always \"numeric\"\u001b[0m\u001b[1;33m\u001b[0m\u001b[1;33m\u001b[0m\u001b[0m\n\u001b[1;32m-> 1229\u001b[1;33m     \u001b[1;32mif\u001b[0m \u001b[0mpd\u001b[0m\u001b[1;33m.\u001b[0m\u001b[0misna\u001b[0m\u001b[1;33m(\u001b[0m\u001b[0mvector\u001b[0m\u001b[1;33m)\u001b[0m\u001b[1;33m.\u001b[0m\u001b[0mall\u001b[0m\u001b[1;33m(\u001b[0m\u001b[1;33m)\u001b[0m\u001b[1;33m:\u001b[0m\u001b[1;33m\u001b[0m\u001b[1;33m\u001b[0m\u001b[0m\n\u001b[0m\u001b[0;32m   1230\u001b[0m         \u001b[1;32mreturn\u001b[0m \u001b[1;34m\"numeric\"\u001b[0m\u001b[1;33m\u001b[0m\u001b[1;33m\u001b[0m\u001b[0m\n\u001b[0;32m   1231\u001b[0m \u001b[1;33m\u001b[0m\u001b[0m\n",
      "\u001b[1;32mC:\\ProgramData\\Anaconda3\\lib\\site-packages\\pandas\\core\\generic.py\u001b[0m in \u001b[0;36m__nonzero__\u001b[1;34m(self)\u001b[0m\n\u001b[0;32m   1525\u001b[0m     \u001b[1;33m@\u001b[0m\u001b[0mfinal\u001b[0m\u001b[1;33m\u001b[0m\u001b[1;33m\u001b[0m\u001b[0m\n\u001b[0;32m   1526\u001b[0m     \u001b[1;32mdef\u001b[0m \u001b[0m__nonzero__\u001b[0m\u001b[1;33m(\u001b[0m\u001b[0mself\u001b[0m\u001b[1;33m)\u001b[0m\u001b[1;33m:\u001b[0m\u001b[1;33m\u001b[0m\u001b[1;33m\u001b[0m\u001b[0m\n\u001b[1;32m-> 1527\u001b[1;33m         raise ValueError(\n\u001b[0m\u001b[0;32m   1528\u001b[0m             \u001b[1;34mf\"The truth value of a {type(self).__name__} is ambiguous. \"\u001b[0m\u001b[1;33m\u001b[0m\u001b[1;33m\u001b[0m\u001b[0m\n\u001b[0;32m   1529\u001b[0m             \u001b[1;34m\"Use a.empty, a.bool(), a.item(), a.any() or a.all().\"\u001b[0m\u001b[1;33m\u001b[0m\u001b[1;33m\u001b[0m\u001b[0m\n",
      "\u001b[1;31mValueError\u001b[0m: The truth value of a Series is ambiguous. Use a.empty, a.bool(), a.item(), a.any() or a.all()."
     ]
    }
   ],
   "source": [
    "ExterQual_order = [\"Po\", \"Fa\", \"TA\", \"Gd\", \"Ex\"]\n",
    "sns.countplot(ames_housing_data, x=\"ExterQual\", order=ExterQual_order)"
   ]
  },
  {
   "cell_type": "markdown",
   "metadata": {},
   "source": [
    "Tenslotte, het belangrijkste, de interpretatie: Wat opvalt is dat de meeste huizen de kwaliteit Average/Typical (TA) of Good (Gd) hebben.\n",
    "\n",
    "#### OverallQual\n",
    "\n",
    "We bekijken weer de mogelijke waarden voor OverallQual (de overall kwaliteit van het huis)."
   ]
  },
  {
   "cell_type": "code",
   "execution_count": 15,
   "metadata": {},
   "outputs": [
    {
     "data": {
      "text/plain": [
       "5     397\n",
       "6     374\n",
       "7     319\n",
       "8     168\n",
       "4     116\n",
       "9      43\n",
       "3      20\n",
       "10     18\n",
       "2       3\n",
       "1       2\n",
       "Name: OverallQual, dtype: int64"
      ]
     },
     "execution_count": 15,
     "metadata": {},
     "output_type": "execute_result"
    }
   ],
   "source": [
    "ames_housing_data[\"OverallQual\"].value_counts()"
   ]
  },
  {
   "cell_type": "markdown",
   "metadata": {},
   "source": [
    "Merk op dat de categorische ordinale variabele is weergegeven met integers. Op Kaggle vinden we een toelichting:\n",
    "\n",
    "       10\tVery Excellent\n",
    "       9\tExcellent\n",
    "       8\tVery Good\n",
    "       7\tGood\n",
    "       6\tAbove Average\n",
    "       5\tAverage\n",
    "       4\tBelow Average\n",
    "       3\tFair\n",
    "       2\tPoor\n",
    "       1\tVery Poor\n",
    "\n",
    "Het belangrijkste lijkt me: hoe hoger het getal, hoe beter de kwaliteit.\n",
    "\n",
    "We kijken ook weer naar de frequentieverdeling."
   ]
  },
  {
   "cell_type": "code",
   "execution_count": 16,
   "metadata": {},
   "outputs": [
    {
     "name": "stderr",
     "output_type": "stream",
     "text": [
      "C:\\ProgramData\\Anaconda3\\lib\\site-packages\\seaborn\\_decorators.py:36: FutureWarning: Pass the following variable as a keyword arg: x. From version 0.12, the only valid positional argument will be `data`, and passing other arguments without an explicit keyword will result in an error or misinterpretation.\n",
      "  warnings.warn(\n"
     ]
    },
    {
     "ename": "ValueError",
     "evalue": "The truth value of a Series is ambiguous. Use a.empty, a.bool(), a.item(), a.any() or a.all().",
     "output_type": "error",
     "traceback": [
      "\u001b[1;31m---------------------------------------------------------------------------\u001b[0m",
      "\u001b[1;31mValueError\u001b[0m                                Traceback (most recent call last)",
      "\u001b[1;32m~\\AppData\\Local\\Temp\\ipykernel_2924\\3508585574.py\u001b[0m in \u001b[0;36m<module>\u001b[1;34m\u001b[0m\n\u001b[1;32m----> 1\u001b[1;33m \u001b[0msns\u001b[0m\u001b[1;33m.\u001b[0m\u001b[0mcountplot\u001b[0m\u001b[1;33m(\u001b[0m\u001b[0mames_housing_data\u001b[0m\u001b[1;33m,\u001b[0m \u001b[0mx\u001b[0m\u001b[1;33m=\u001b[0m\u001b[1;34m\"OverallQual\"\u001b[0m\u001b[1;33m)\u001b[0m\u001b[1;33m\u001b[0m\u001b[1;33m\u001b[0m\u001b[0m\n\u001b[0m",
      "\u001b[1;32mC:\\ProgramData\\Anaconda3\\lib\\site-packages\\seaborn\\_decorators.py\u001b[0m in \u001b[0;36minner_f\u001b[1;34m(*args, **kwargs)\u001b[0m\n\u001b[0;32m     44\u001b[0m             )\n\u001b[0;32m     45\u001b[0m         \u001b[0mkwargs\u001b[0m\u001b[1;33m.\u001b[0m\u001b[0mupdate\u001b[0m\u001b[1;33m(\u001b[0m\u001b[1;33m{\u001b[0m\u001b[0mk\u001b[0m\u001b[1;33m:\u001b[0m \u001b[0marg\u001b[0m \u001b[1;32mfor\u001b[0m \u001b[0mk\u001b[0m\u001b[1;33m,\u001b[0m \u001b[0marg\u001b[0m \u001b[1;32min\u001b[0m \u001b[0mzip\u001b[0m\u001b[1;33m(\u001b[0m\u001b[0msig\u001b[0m\u001b[1;33m.\u001b[0m\u001b[0mparameters\u001b[0m\u001b[1;33m,\u001b[0m \u001b[0margs\u001b[0m\u001b[1;33m)\u001b[0m\u001b[1;33m}\u001b[0m\u001b[1;33m)\u001b[0m\u001b[1;33m\u001b[0m\u001b[1;33m\u001b[0m\u001b[0m\n\u001b[1;32m---> 46\u001b[1;33m         \u001b[1;32mreturn\u001b[0m \u001b[0mf\u001b[0m\u001b[1;33m(\u001b[0m\u001b[1;33m**\u001b[0m\u001b[0mkwargs\u001b[0m\u001b[1;33m)\u001b[0m\u001b[1;33m\u001b[0m\u001b[1;33m\u001b[0m\u001b[0m\n\u001b[0m\u001b[0;32m     47\u001b[0m     \u001b[1;32mreturn\u001b[0m \u001b[0minner_f\u001b[0m\u001b[1;33m\u001b[0m\u001b[1;33m\u001b[0m\u001b[0m\n\u001b[0;32m     48\u001b[0m \u001b[1;33m\u001b[0m\u001b[0m\n",
      "\u001b[1;32mC:\\ProgramData\\Anaconda3\\lib\\site-packages\\seaborn\\categorical.py\u001b[0m in \u001b[0;36mcountplot\u001b[1;34m(x, y, hue, data, order, hue_order, orient, color, palette, saturation, dodge, ax, **kwargs)\u001b[0m\n\u001b[0;32m   3596\u001b[0m         \u001b[1;32mraise\u001b[0m \u001b[0mValueError\u001b[0m\u001b[1;33m(\u001b[0m\u001b[1;34m\"Cannot pass values for both `x` and `y`\"\u001b[0m\u001b[1;33m)\u001b[0m\u001b[1;33m\u001b[0m\u001b[1;33m\u001b[0m\u001b[0m\n\u001b[0;32m   3597\u001b[0m \u001b[1;33m\u001b[0m\u001b[0m\n\u001b[1;32m-> 3598\u001b[1;33m     plotter = _CountPlotter(\n\u001b[0m\u001b[0;32m   3599\u001b[0m         \u001b[0mx\u001b[0m\u001b[1;33m,\u001b[0m \u001b[0my\u001b[0m\u001b[1;33m,\u001b[0m \u001b[0mhue\u001b[0m\u001b[1;33m,\u001b[0m \u001b[0mdata\u001b[0m\u001b[1;33m,\u001b[0m \u001b[0morder\u001b[0m\u001b[1;33m,\u001b[0m \u001b[0mhue_order\u001b[0m\u001b[1;33m,\u001b[0m\u001b[1;33m\u001b[0m\u001b[1;33m\u001b[0m\u001b[0m\n\u001b[0;32m   3600\u001b[0m         \u001b[0mestimator\u001b[0m\u001b[1;33m,\u001b[0m \u001b[0mci\u001b[0m\u001b[1;33m,\u001b[0m \u001b[0mn_boot\u001b[0m\u001b[1;33m,\u001b[0m \u001b[0munits\u001b[0m\u001b[1;33m,\u001b[0m \u001b[0mseed\u001b[0m\u001b[1;33m,\u001b[0m\u001b[1;33m\u001b[0m\u001b[1;33m\u001b[0m\u001b[0m\n",
      "\u001b[1;32mC:\\ProgramData\\Anaconda3\\lib\\site-packages\\seaborn\\categorical.py\u001b[0m in \u001b[0;36m__init__\u001b[1;34m(self, x, y, hue, data, order, hue_order, estimator, ci, n_boot, units, seed, orient, color, palette, saturation, errcolor, errwidth, capsize, dodge)\u001b[0m\n\u001b[0;32m   1582\u001b[0m                  errwidth, capsize, dodge):\n\u001b[0;32m   1583\u001b[0m         \u001b[1;34m\"\"\"Initialize the plotter.\"\"\"\u001b[0m\u001b[1;33m\u001b[0m\u001b[1;33m\u001b[0m\u001b[0m\n\u001b[1;32m-> 1584\u001b[1;33m         self.establish_variables(x, y, hue, data, orient,\n\u001b[0m\u001b[0;32m   1585\u001b[0m                                  order, hue_order, units)\n\u001b[0;32m   1586\u001b[0m         \u001b[0mself\u001b[0m\u001b[1;33m.\u001b[0m\u001b[0mestablish_colors\u001b[0m\u001b[1;33m(\u001b[0m\u001b[0mcolor\u001b[0m\u001b[1;33m,\u001b[0m \u001b[0mpalette\u001b[0m\u001b[1;33m,\u001b[0m \u001b[0msaturation\u001b[0m\u001b[1;33m)\u001b[0m\u001b[1;33m\u001b[0m\u001b[1;33m\u001b[0m\u001b[0m\n",
      "\u001b[1;32mC:\\ProgramData\\Anaconda3\\lib\\site-packages\\seaborn\\categorical.py\u001b[0m in \u001b[0;36mestablish_variables\u001b[1;34m(self, x, y, hue, data, orient, order, hue_order, units)\u001b[0m\n\u001b[0;32m    154\u001b[0m \u001b[1;33m\u001b[0m\u001b[0m\n\u001b[0;32m    155\u001b[0m             \u001b[1;31m# Figure out the plotting orientation\u001b[0m\u001b[1;33m\u001b[0m\u001b[1;33m\u001b[0m\u001b[0m\n\u001b[1;32m--> 156\u001b[1;33m             orient = infer_orient(\n\u001b[0m\u001b[0;32m    157\u001b[0m                 \u001b[0mx\u001b[0m\u001b[1;33m,\u001b[0m \u001b[0my\u001b[0m\u001b[1;33m,\u001b[0m \u001b[0morient\u001b[0m\u001b[1;33m,\u001b[0m \u001b[0mrequire_numeric\u001b[0m\u001b[1;33m=\u001b[0m\u001b[0mself\u001b[0m\u001b[1;33m.\u001b[0m\u001b[0mrequire_numeric\u001b[0m\u001b[1;33m\u001b[0m\u001b[1;33m\u001b[0m\u001b[0m\n\u001b[0;32m    158\u001b[0m             )\n",
      "\u001b[1;32mC:\\ProgramData\\Anaconda3\\lib\\site-packages\\seaborn\\_core.py\u001b[0m in \u001b[0;36minfer_orient\u001b[1;34m(x, y, orient, require_numeric)\u001b[0m\n\u001b[0;32m   1309\u001b[0m     \"\"\"\n\u001b[0;32m   1310\u001b[0m \u001b[1;33m\u001b[0m\u001b[0m\n\u001b[1;32m-> 1311\u001b[1;33m     \u001b[0mx_type\u001b[0m \u001b[1;33m=\u001b[0m \u001b[1;32mNone\u001b[0m \u001b[1;32mif\u001b[0m \u001b[0mx\u001b[0m \u001b[1;32mis\u001b[0m \u001b[1;32mNone\u001b[0m \u001b[1;32melse\u001b[0m \u001b[0mvariable_type\u001b[0m\u001b[1;33m(\u001b[0m\u001b[0mx\u001b[0m\u001b[1;33m)\u001b[0m\u001b[1;33m\u001b[0m\u001b[1;33m\u001b[0m\u001b[0m\n\u001b[0m\u001b[0;32m   1312\u001b[0m     \u001b[0my_type\u001b[0m \u001b[1;33m=\u001b[0m \u001b[1;32mNone\u001b[0m \u001b[1;32mif\u001b[0m \u001b[0my\u001b[0m \u001b[1;32mis\u001b[0m \u001b[1;32mNone\u001b[0m \u001b[1;32melse\u001b[0m \u001b[0mvariable_type\u001b[0m\u001b[1;33m(\u001b[0m\u001b[0my\u001b[0m\u001b[1;33m)\u001b[0m\u001b[1;33m\u001b[0m\u001b[1;33m\u001b[0m\u001b[0m\n\u001b[0;32m   1313\u001b[0m \u001b[1;33m\u001b[0m\u001b[0m\n",
      "\u001b[1;32mC:\\ProgramData\\Anaconda3\\lib\\site-packages\\seaborn\\_core.py\u001b[0m in \u001b[0;36mvariable_type\u001b[1;34m(vector, boolean_type)\u001b[0m\n\u001b[0;32m   1227\u001b[0m \u001b[1;33m\u001b[0m\u001b[0m\n\u001b[0;32m   1228\u001b[0m     \u001b[1;31m# Special-case all-na data, which is always \"numeric\"\u001b[0m\u001b[1;33m\u001b[0m\u001b[1;33m\u001b[0m\u001b[0m\n\u001b[1;32m-> 1229\u001b[1;33m     \u001b[1;32mif\u001b[0m \u001b[0mpd\u001b[0m\u001b[1;33m.\u001b[0m\u001b[0misna\u001b[0m\u001b[1;33m(\u001b[0m\u001b[0mvector\u001b[0m\u001b[1;33m)\u001b[0m\u001b[1;33m.\u001b[0m\u001b[0mall\u001b[0m\u001b[1;33m(\u001b[0m\u001b[1;33m)\u001b[0m\u001b[1;33m:\u001b[0m\u001b[1;33m\u001b[0m\u001b[1;33m\u001b[0m\u001b[0m\n\u001b[0m\u001b[0;32m   1230\u001b[0m         \u001b[1;32mreturn\u001b[0m \u001b[1;34m\"numeric\"\u001b[0m\u001b[1;33m\u001b[0m\u001b[1;33m\u001b[0m\u001b[0m\n\u001b[0;32m   1231\u001b[0m \u001b[1;33m\u001b[0m\u001b[0m\n",
      "\u001b[1;32mC:\\ProgramData\\Anaconda3\\lib\\site-packages\\pandas\\core\\generic.py\u001b[0m in \u001b[0;36m__nonzero__\u001b[1;34m(self)\u001b[0m\n\u001b[0;32m   1525\u001b[0m     \u001b[1;33m@\u001b[0m\u001b[0mfinal\u001b[0m\u001b[1;33m\u001b[0m\u001b[1;33m\u001b[0m\u001b[0m\n\u001b[0;32m   1526\u001b[0m     \u001b[1;32mdef\u001b[0m \u001b[0m__nonzero__\u001b[0m\u001b[1;33m(\u001b[0m\u001b[0mself\u001b[0m\u001b[1;33m)\u001b[0m\u001b[1;33m:\u001b[0m\u001b[1;33m\u001b[0m\u001b[1;33m\u001b[0m\u001b[0m\n\u001b[1;32m-> 1527\u001b[1;33m         raise ValueError(\n\u001b[0m\u001b[0;32m   1528\u001b[0m             \u001b[1;34mf\"The truth value of a {type(self).__name__} is ambiguous. \"\u001b[0m\u001b[1;33m\u001b[0m\u001b[1;33m\u001b[0m\u001b[0m\n\u001b[0;32m   1529\u001b[0m             \u001b[1;34m\"Use a.empty, a.bool(), a.item(), a.any() or a.all().\"\u001b[0m\u001b[1;33m\u001b[0m\u001b[1;33m\u001b[0m\u001b[0m\n",
      "\u001b[1;31mValueError\u001b[0m: The truth value of a Series is ambiguous. Use a.empty, a.bool(), a.item(), a.any() or a.all()."
     ]
    }
   ],
   "source": [
    "sns.countplot(ames_housing_data, x=\"OverallQual\")"
   ]
  },
  {
   "cell_type": "markdown",
   "metadata": {},
   "source": [
    "Als je bovenstaande figuur bekijkt dan heeft het wel iets weg van een normale verdeling.\n",
    "\n",
    "#### Neighborhood\n",
    "\n",
    "De Neighborhood is de buurt waar het huis staat. We kijken keer naar mogelijke waarden en hun voorkomens."
   ]
  },
  {
   "cell_type": "code",
   "execution_count": null,
   "metadata": {},
   "outputs": [],
   "source": [
    "ames_housing_data[\"Neighborhood\"].value_counts()"
   ]
  },
  {
   "cell_type": "markdown",
   "metadata": {},
   "source": [
    "We kunnen het ook weer visueel maken."
   ]
  },
  {
   "cell_type": "code",
   "execution_count": null,
   "metadata": {},
   "outputs": [],
   "source": [
    "ax = sns.countplot(ames_housing_data, x=\"Neighborhood\")\n",
    "ax.tick_params(axis='x', rotation=90) # Om ervoor te zorgen dat de labels leesbaar zijn."
   ]
  },
  {
   "cell_type": "markdown",
   "metadata": {},
   "source": [
    "Eigenlijk vind ik bovenstaande figuur niet echt veelzeggend. Mooier zou het zijn om een heatmap te maken op een geografische kaart van Boston waar deze wijken zijn. Maar dat vraagt wat uitzoekwerk dat ik nu even laat voor wat het is.\n",
    "\n",
    "Wel kan het prettig zijn om te sorteren op frequentie. Dan is een horizontaal staafdiagram vaak ook wat geschikter."
   ]
  },
  {
   "cell_type": "code",
   "execution_count": null,
   "metadata": {},
   "outputs": [],
   "source": [
    "sns.countplot(ames_housing_data,\n",
    "              y=\"Neighborhood\",\n",
    "              # Je zou verwachten dat sns.countplot kan sorteren op count, maar dat is niet zo.\n",
    "              # We maken er gebruik van data value_counts() wel sorteert. Er zijn ook andere manieren\n",
    "              # om dit op te lossen (bijvoorbeeld groupby op het dataframe aanroepen).\n",
    "              order=ames_housing_data[\"Neighborhood\"].value_counts().index)"
   ]
  },
  {
   "cell_type": "markdown",
   "metadata": {},
   "source": [
    "Als er erg veel waarden zijn (hier valt het wel mee) kan het ook interessant zijn om naar een top N te kijken. Bijvoorbeeld naar de top 5."
   ]
  },
  {
   "cell_type": "code",
   "execution_count": null,
   "metadata": {},
   "outputs": [],
   "source": [
    "sns.countplot(ames_housing_data,\n",
    "              y=\"Neighborhood\",\n",
    "              # We doen hetzelfde als in de vorige cell, maar nu voegen we head(5) toe\n",
    "              # om de vijf bovenste (en dus grootste) waarden te krijgen.\n",
    "              order=ames_housing_data[\"Neighborhood\"].value_counts().head(5).index)"
   ]
  },
  {
   "cell_type": "markdown",
   "metadata": {},
   "source": [
    "Hierboven zien we dus de vijf wijken met het grootste aantal huizen in de dataset.\n",
    "\n",
    "### Numerieke variabelen\n",
    "\n",
    "Je kunt gebruik maken van describe() om in één keer informatie te krijgen over alle numerieke variabelen in het dataframe."
   ]
  },
  {
   "cell_type": "code",
   "execution_count": null,
   "metadata": {},
   "outputs": [],
   "source": [
    "ames_housing_data[num_vars].describe()"
   ]
  },
  {
   "cell_type": "markdown",
   "metadata": {},
   "source": [
    "We kunnen best wel het een en ander zeggen over bovenstaande tabel. Maar is het vaak fijner om te kijken naar histogrammen van de afzonderlijke variabelen. Want dan wordt duidelijker zichtbaar hoe de verdeling van de waarden is.\n",
    "\n",
    "#### SalePrice\n",
    "\n",
    "SalePrice is de verkoopprijs van het huis. Hieronder zie je het bijbehorende histogram."
   ]
  },
  {
   "cell_type": "code",
   "execution_count": null,
   "metadata": {},
   "outputs": [],
   "source": [
    "sns.histplot(ames_housing_data, x=\"SalePrice\")"
   ]
  },
  {
   "cell_type": "markdown",
   "metadata": {},
   "source": [
    "We zien hier een zogenaamde rechts-scheve verdeling (of right tail distribution). Want aan de rechterkant van de modus (en ook wel de mean) zijn meer waarden dan aan de linkerkant.\n",
    "\n",
    "Voor sommige data-analyses, en met name machine learning, kan het helpend zijn om de verdeling te transformeren met een logaritmische functie om een meer normale verdeling te krijgen."
   ]
  },
  {
   "cell_type": "code",
   "execution_count": null,
   "metadata": {},
   "outputs": [],
   "source": [
    "ames_housing_data[\"SalePriceLog\"] = np.log(ames_housing_data[\"SalePrice\"])\n",
    "sns.histplot(ames_housing_data, x=\"SalePriceLog\")"
   ]
  },
  {
   "cell_type": "markdown",
   "metadata": {},
   "source": [
    "Nice! Dat ziet er meer uit als een normale verdeling.\n",
    "\n",
    "Als je terugkijkt naar het oorspronkelijke histogram van de SalePrice dan valt nog iets anders op. Er lijken namelijk best wat uitbijters (outliers) te zijn. Laten we die eens wat nader bekijken. We doen dat door naar de top 10 hoogste prijzen te kijken.\n"
   ]
  },
  {
   "cell_type": "code",
   "execution_count": null,
   "metadata": {},
   "outputs": [],
   "source": [
    "ames_housing_data.nlargest(10, columns=\"SalePrice\")"
   ]
  },
  {
   "cell_type": "markdown",
   "metadata": {},
   "source": [
    "Wat hier opvalt: als het gaat over huizen met prijzen boven de 500.000 dollar dan is er maar weinig data om mee te werken. Dus als je deze data bijvoorbeeld zou willen gebruiken om met machine learning de prijs van een huis te voorspellen, dan presteert dat model mogelijk niet zo goed voor dure huizen.\n",
    "\n",
    "#### GrLivArea\n",
    "\n",
    "GrLivArea is het oppervlakte van het huis. We bekijken weer het histogram."
   ]
  },
  {
   "cell_type": "code",
   "execution_count": null,
   "metadata": {},
   "outputs": [],
   "source": [
    "sns.histplot(ames_housing_data, x=\"GrLivArea\")"
   ]
  },
  {
   "cell_type": "markdown",
   "metadata": {},
   "source": [
    "Ook hier weer een rechts-scheve verdeling en een aantal forse outliers. Laten we eerst naar de outliers kijken."
   ]
  },
  {
   "cell_type": "code",
   "execution_count": null,
   "metadata": {},
   "outputs": [],
   "source": [
    "ames_housing_data.nlargest(10, columns=\"GrLivArea\")"
   ]
  },
  {
   "cell_type": "markdown",
   "metadata": {},
   "source": [
    "Je ziet dat er maar een klein aantal huizen zijn boven de 4000 square feet. Je zou misschien verwachten dat het dezelfde huizen zijn als de dure huizen. Maar dat blijkt maar gedeeltelijk zo te zijn. Het grootste huis is juist erg goedkoop! (160.000 dollar). Dat is misschien een wel erg bijzonder geval in de data!\n",
    "\n",
    "Ook voor de GrLivArea kijken we of een log transform de data wat meer normaliseert."
   ]
  },
  {
   "cell_type": "code",
   "execution_count": null,
   "metadata": {},
   "outputs": [],
   "source": [
    "ames_housing_data[\"GrLivAreaLog\"] = np.log(ames_housing_data[\"GrLivArea\"])\n",
    "sns.histplot(ames_housing_data, x=\"GrLivAreaLog\")"
   ]
  },
  {
   "cell_type": "markdown",
   "metadata": {},
   "source": [
    "Ook hier zien we dat de data iets meer normaal verdeeld lijkt.\n",
    "\n",
    "#### TotRmsAbvGrd\n",
    "\n",
    "TotRmsAbvGrd tenslotte is het aantal kamers boven de grond exclusief badkamers. De variabele is als volgt verdeeld."
   ]
  },
  {
   "cell_type": "code",
   "execution_count": null,
   "metadata": {},
   "outputs": [],
   "source": [
    "sns.histplot(ames_housing_data, x=\"TotRmsAbvGrd\")"
   ]
  },
  {
   "cell_type": "markdown",
   "metadata": {},
   "source": [
    "Dit ziet er behoorlijk normaal verdeeld uit. Misschien een heel klein beetje scheef naar rechts.\n",
    "\n",
    "We kunnen overigens ook de scheefheid van de verdeling in een getal uitdrukken. We doen dat voor de SalePrice, GrLivArea en TotRmsAbvGrd zodat we ze kunnen vergelijken. Zie ook: [https://pandas.pydata.org/docs/reference/api/pandas.DataFrame.skew.html](https://pandas.pydata.org/docs/reference/api/pandas.DataFrame.skew.html)."
   ]
  },
  {
   "cell_type": "code",
   "execution_count": null,
   "metadata": {},
   "outputs": [],
   "source": [
    "ames_housing_data[\"SalePrice\"].skew(), ames_housing_data[\"GrLivArea\"].skew(), ames_housing_data[\"TotRmsAbvGrd\"].skew()"
   ]
  },
  {
   "cell_type": "markdown",
   "metadata": {},
   "source": [
    "Hoe groter het getal hoe schever naar rechts. Als je kijkt naar de verschillen tussen de drie getallen hierboven dan komt dat ook wel overeen met wat we zien in de histogrammen. SalePrice is het meest scheef, TotRmsAbvGrd het minst.\n",
    "\n",
    "Het is misschien ook leuk om te kijken naar de scheefheid van de getransformeerde kolommen."
   ]
  },
  {
   "cell_type": "code",
   "execution_count": null,
   "metadata": {},
   "outputs": [],
   "source": [
    "ames_housing_data[\"SalePriceLog\"].skew(), ames_housing_data[\"GrLivAreaLog\"].skew()"
   ]
  },
  {
   "cell_type": "markdown",
   "metadata": {},
   "source": [
    "Zoals verwacht liggen de waarden veel dichter bij de nul.\n",
    "\n",
    "## Relaties tussen de variabelen\n",
    "\n",
    "We gaan nu kijken naar de relaties tussen de variabelen. We doen dat eerst systematisch door alle mogelijke tweetallen te bekijken. Daarbij is het nodig onderscheid te maken tussen een tweetal van numerieke variabelen, een tweetal van categorische variabelen, en een tweetal met een numerieke en een categorische variabelen. Vervolgens kijken we ook nog naar de mogelijkheid om naar de relatie tussen drie variabelen te kijken.\n",
    "\n",
    "### Tweetallen van numerieke variabelen.\n",
    "\n",
    "Voor tweetallen van numerieke variabelen kun je makkelijk een overzicht maken van alle mogelijke combinaties door een correlatiematrix en een pairplot te maken. Laten we beginnen met een pairplot."
   ]
  },
  {
   "cell_type": "code",
   "execution_count": null,
   "metadata": {},
   "outputs": [],
   "source": [
    "sns.pairplot(ames_housing_data[num_vars])"
   ]
  },
  {
   "cell_type": "markdown",
   "metadata": {},
   "source": [
    "Een pairplot maakt voor iedere combinatie van numerieke variabelen een scatterplot. Omdat het niet zo interessant is om een variabelen met zichzelf te vergelijken staan op de diagonaal histogrammen.\n",
    "\n",
    "Als je kijkt naar bovenstaande figuur dan lijken er best wat afhankelijkheden te zijn tussen de variabelen. Bijvoorbeeld tussen de GrLivArea en de SalePrice. Dat zou je ook wel verwachten op grond van de betekenis van de variabelen. Hoe groter het huis, hoe duurder. We kunnen de afhankelijkheid uitdrukken met de correlatie coëfficiënt.\n",
    "\n",
    "Hieronder zetten we ze in één keer in een tabel."
   ]
  },
  {
   "cell_type": "code",
   "execution_count": null,
   "metadata": {},
   "outputs": [],
   "source": [
    "corr_matrix = ames_housing_data[num_vars].corr()\n",
    "corr_matrix"
   ]
  },
  {
   "cell_type": "markdown",
   "metadata": {},
   "source": [
    "Je ziet inderdaad een aantal hoge coëfficiënten. Zelf vind ik de correlatie tussen TotRmsAbvGrd en SalePrice wat lager dan ik zou gokken.\n",
    "\n",
    "Nu zoomen we in op in één tweetal: GrLivArea en SalePrice. Die hebben naar verwachtiging een grote correlatie. We bestuderen die apart in een regplot. Dat is een scatterplot met daarin een regressielijn getekend."
   ]
  },
  {
   "cell_type": "code",
   "execution_count": null,
   "metadata": {},
   "outputs": [],
   "source": [
    "sns.regplot(ames_housing_data, x=\"GrLivArea\", y=\"SalePrice\")"
   ]
  },
  {
   "cell_type": "markdown",
   "metadata": {},
   "source": [
    "Wat opvalt, naast de regressielijn die regplot heeft getekend, is dat de puntenwolk kegelvormig is. Dat kan komen doordat beide variabelen rechs-scheef verdeeld zijn. Laten we eens kijken naar een regplot van de getransformeerde kolommen."
   ]
  },
  {
   "cell_type": "code",
   "execution_count": null,
   "metadata": {},
   "outputs": [],
   "source": [
    "sns.regplot(ames_housing_data, x=\"GrLivAreaLog\", y=\"SalePriceLog\")"
   ]
  },
  {
   "cell_type": "code",
   "execution_count": null,
   "metadata": {},
   "outputs": [],
   "source": []
  },
  {
   "cell_type": "markdown",
   "metadata": {},
   "source": [
    "Mooi! Je ziet dat de punten dichter bij de regressielijn lijken te zitten. Het is mogelijk om een getal te geven aan de voorspellende kwaliteit van de regressielijn, namelijk de $R^2$. Voor twee variabelen is dat de correlatie coëfficiënt in het kwadraat."
   ]
  },
  {
   "cell_type": "code",
   "execution_count": null,
   "metadata": {},
   "outputs": [],
   "source": [
    "r2 = ames_housing_data[\"GrLivArea\"].corr(ames_housing_data[\"SalePrice\"])**2\n",
    "r2_log_vars = ames_housing_data[\"GrLivAreaLog\"].corr(ames_housing_data[\"SalePriceLog\"])**2\n",
    "r2, r2_log_vars"
   ]
  },
  {
   "cell_type": "markdown",
   "metadata": {},
   "source": [
    "Dat betekent dat de SalePrice ongeveer voor de helft wordt verklaard door de GrLivArea. Bij de log variabelen is de $R^2$ net iets hoger. Dus dan is de voorspellende/verklarende kwaliteit net wat beter.\n",
    "\n",
    "### Tweetallen van categorische variabelen\n",
    "\n",
    "De tweetallen van categorische variabelen bekijken we stuk voor stuk. Er zijn zes mogelijke combinaties. We kijken iedere keer naar een gelabeld staafdiagram.\n",
    "\n",
    "#### LotShape en ExterQual"
   ]
  },
  {
   "cell_type": "code",
   "execution_count": null,
   "metadata": {},
   "outputs": [],
   "source": [
    "# We gebruiken de lijst ExterQual_order die we eerder hebben gemaakt om de labels\n",
    "# op de goede volgorde zetten. Voor LotShape is het niet nodig omdat de alfobetische\n",
    "# volgorde al de goede volgorde is.\n",
    "sns.countplot(ames_housing_data, x=\"LotShape\", hue=\"ExterQual\", hue_order=ExterQual_order)"
   ]
  },
  {
   "cell_type": "markdown",
   "metadata": {},
   "source": [
    "We kijken vooral naar Reg en IR1, omdat IR2 en IR3 maar heel weinig voorkomens hebben. Wat dan opvalt is dat huizen met een (licht) onregelmatige vorm een iets betere buitenkwaliteit hebben dan huizen met een regelmatige vorm.\n",
    "\n",
    "Het is mogelijk om de afhankelijkheid van LotShape en ExterQual uit te drukken in getallen. We doen daarvoor een $\\chi^2$ test. Het is dan wel aardig om eerst de kruistabel te bekijken."
   ]
  },
  {
   "cell_type": "code",
   "execution_count": null,
   "metadata": {},
   "outputs": [],
   "source": [
    "crosstab = pd.crosstab(ames_housing_data[\"LotShape\"], ames_housing_data[\"ExterQual\"])\n",
    "crosstab"
   ]
  },
  {
   "cell_type": "markdown",
   "metadata": {},
   "source": [
    "Je ziet dat er frequenties onder de 5 voorkomen. Dat 'mag niet' bij een $\\chi^2$ test. We kunnen dat hier oplossen door IR1, IR2 en IR3 samen te nemen en door Fa en TA samen te nemen."
   ]
  },
  {
   "cell_type": "code",
   "execution_count": null,
   "metadata": {},
   "outputs": [],
   "source": [
    "LotShape_mapper = {\"IR1\": \"Irr\", \"IR2\": \"Irr\", \"IR3\": \"Irr\", \"Reg\": \"Reg\"}\n",
    "EXterQuall_mapper = {\"Fa\": \"FaTA\", \"TA\": \"FaTA\", \"Gd\": \"Gd\", \"Ex\": \"Ex\"}\n",
    "crosstab = pd.crosstab(ames_housing_data[\"LotShape\"].map(LotShape_mapper),\n",
    "                       ames_housing_data[\"ExterQual\"].map(EXterQuall_mapper))\n",
    "crosstab"
   ]
  },
  {
   "cell_type": "markdown",
   "metadata": {},
   "source": [
    "Nu kunnen we de $\\chi^2$ test doen."
   ]
  },
  {
   "cell_type": "code",
   "execution_count": null,
   "metadata": {},
   "outputs": [],
   "source": [
    "results = stats.chi2_contingency(crosstab)\n",
    "\"Chi kwadraat = {}, p-waarde = {}\".format(results[0], results[1])"
   ]
  },
  {
   "cell_type": "markdown",
   "metadata": {},
   "source": [
    "Dat is een zeer klein p-waarde. Er is dus waarschijnlijk sprake van afhankelijkheid. Voor de volgende combinaties laten we de $\\chi^2$ test voor wat die is en doen we de interpretatie 'op het oog'.\n",
    "\n",
    "#### LotShape en OverallQual"
   ]
  },
  {
   "cell_type": "code",
   "execution_count": null,
   "metadata": {},
   "outputs": [],
   "source": [
    "sns.countplot(ames_housing_data, x=\"LotShape\", hue=\"OverallQual\")"
   ]
  },
  {
   "cell_type": "markdown",
   "metadata": {},
   "source": [
    "We zien hetzelfde bij de OverallQual als bij de ExterQual. De kwaliteit van de IR1 huizen lijkt iets hoger te zijn.\n",
    "\n",
    "#### Lotshape en Neighborhood\n",
    "\n",
    "We bekijken alleen de top 10 grootste buurten om de grafiek leesbaar te houden."
   ]
  },
  {
   "cell_type": "code",
   "execution_count": null,
   "metadata": {},
   "outputs": [],
   "source": [
    "sns.countplot(ames_housing_data, x=\"LotShape\", hue=\"Neighborhood\",\n",
    "              hue_order=ames_housing_data[\"Neighborhood\"].value_counts().head(10).index)"
   ]
  },
  {
   "cell_type": "markdown",
   "metadata": {},
   "source": [
    "Opvallend hier is de vorm van huizen in de wijk Gilbert. De grafiek suggereert dat daar veel meer dan in de andere wijken huizen zijn met niet-regelmatige vormen. Een [google search](https://www.google.com/search?q=boston+gilbert+neighborhood) op deze wijk bevestigt het beeld dat bovenstaande grafiek geeft: huizen met bijzondere vormen.\n",
    "\n",
    "Bijvoorbeeld:\n",
    "\n",
    "![huis](https://photos.zillowstatic.com/fp/25cd42d3fd563d13eafcba923d40543f-cc_ft_1536.jpg)\n",
    "\n",
    "Bron: [https://photos.zillowstatic.com/fp/25cd42d3fd563d13eafcba923d40543f-cc_ft_1536.jpg](https://photos.zillowstatic.com/fp/25cd42d3fd563d13eafcba923d40543f-cc_ft_1536.jpg)\n",
    "\n",
    "#### ExterQual en OverallQual\n",
    "\n",
    "We verwachten op voorhand een grote afhankelijkheid tussen ExterQual en OverallQual. Laten we eens kijken of dat inderdaad zo is."
   ]
  },
  {
   "cell_type": "code",
   "execution_count": null,
   "metadata": {},
   "outputs": [],
   "source": [
    "sns.countplot(ames_housing_data, x=\"OverallQual\", hue=\"ExterQual\", hue_order=ExterQual_order)"
   ]
  },
  {
   "cell_type": "markdown",
   "metadata": {},
   "source": [
    "Ja, je ziet duideljk dat TA (Average/Typical) meer verdeeld is rond de 5 en dat Gd(Good) meer verdeeld is rond de 7.\n",
    "\n",
    "#### ExterQual en Neighborhood"
   ]
  },
  {
   "cell_type": "code",
   "execution_count": null,
   "metadata": {},
   "outputs": [],
   "source": [
    "ax = sns.countplot(ames_housing_data, x=\"Neighborhood\", hue=\"ExterQual\",\n",
    "              hue_order=ExterQual_order,\n",
    "              order=ames_housing_data[\"Neighborhood\"].value_counts().head(10).index)\n",
    "ax.tick_params(axis='x', rotation=90) # Om ervoor te zorgen dat de labels leesbaar zijn."
   ]
  },
  {
   "cell_type": "markdown",
   "metadata": {},
   "source": [
    "Ook hier is een afhankelijkheid te zien. Zoals je misschien ook zou verwachten verschilt de kwaliteit per wijk. In de wijk NridgHt (Northridge Heights) bijvoorbeeld is de kwaliteit een stuk beter dan in andere wijken.\n",
    "\n",
    "#### OverallQual en Neighborhood\n",
    "\n",
    "We verwachten dan bij OverallQual en Neighborhood ongeveer hetzelfde patroon te zien. Want OverallQual en ExterQuall zijn afhankelijk van elkaar. We bekijken maar zeven wijken vanwege de leesbaarheid."
   ]
  },
  {
   "cell_type": "code",
   "execution_count": null,
   "metadata": {},
   "outputs": [],
   "source": [
    "ax = sns.countplot(ames_housing_data, x=\"Neighborhood\", hue=\"OverallQual\",\n",
    "              order=ames_housing_data[\"Neighborhood\"].value_counts().head(7).index)\n",
    "ax.tick_params(axis='x', rotation=90) # Om ervoor te zorgen dat de labels leesbaar zijn."
   ]
  },
  {
   "cell_type": "markdown",
   "metadata": {},
   "source": [
    "We zien inderdaad dezelfde verschillen terugkomen, bijvoorbeeld weer in NridgHt (Northridge Heights).\n",
    "\n",
    "### Tweetallen met een numerieke en een categorische waarde\n",
    "\n",
    "Als we een numerieke en een categorische variabele met elkaar vergelijken, dan zijn we geïnteresseerd in de verdelingen van de numerieke variabele per waarde die de categorische variabele aan kan nemen. De boxplot is daar erg geschikt voor.\n",
    "\n",
    "#### LotShape en GrLivArea"
   ]
  },
  {
   "cell_type": "code",
   "execution_count": null,
   "metadata": {},
   "outputs": [],
   "source": [
    "sns.boxplot(ames_housing_data, x=\"LotShape\", y=\"GrLivArea\")"
   ]
  },
  {
   "cell_type": "markdown",
   "metadata": {},
   "source": [
    "De verdelingen lijken best dicht bij elkaar te liggen. Aan de andere kan zijn er ook duidelijk verschillen zichtbaar. Maar wat is 'dicht bij elkaar' en wat is verschillend? Daarvoor kun je een statistische analyse doen. Bijvoorbeeld een ANOVA test om te kijken of de verdelingen significant verschillen. Maar ANOVA vereist wel dat de numerieke variabele normaal verdeeld is. In ons geval is dat GrLivArea en die is niet normaal verdeeld, maar rechts-scheef. We hebben nu twee opties:\n",
    "- De ANOVA test op de log transformatie die wel normaal verdeeld is;\n",
    "- Een andere test doen die om kan gaan met niet normaal verdeelde variabelen, namelijk de Kruskal-Wallis test.\n",
    "\n",
    "We doen het allebei."
   ]
  },
  {
   "cell_type": "code",
   "execution_count": null,
   "metadata": {},
   "outputs": [],
   "source": [
    "# Ik maak hier gebruik van de gelegenheid om met list comprehensions\n",
    "# te werken. Dat is niet per se nodig. Uiteindelijk wil je de functies\n",
    "# stats.anova en stats.kruskal de goede argumenten kunnen geven. Dat kan op veel\n",
    "# verschillende manieren. List comprehensions maken het compact en leesbaar, maar\n",
    "# zijn vaak wel wat lastiger om 'uit het niks' zelf te bedenken.\n",
    "\n",
    "# Eerst delen we het dataframe op in groepen.\n",
    "# Voor iedere waarde van LotShape is er een groep.\n",
    "groups = [ames_housing_data[ames_housing_data[\"LotShape\"] == val]\n",
    "          for val in ames_housing_data[\"LotShape\"].unique()]\n",
    "\n",
    "# Voor ANAVO gebruiken we de GrLivAreaLog en voor Kruskal-Wallis GrLivArea\n",
    "groups_anova = [group[\"GrLivAreaLog\"] for group in groups]\n",
    "groups_kruskal = [group[\"GrLivArea\"] for group in groups]\n",
    "\n",
    "# Nu kunnen we de testen doen met de bijbehorende library functies uit scipy.stats.\n",
    "# Met * unpack je een lijst naar losse argumenten.\n",
    "stat_anova, p_anova = stats.f_oneway(*groups_anova)\n",
    "stat_kruskal, p_kruskal = stats.kruskal(*groups_kruskal)\n",
    "\n",
    "# We zijn vooral geinteresseerd in de p-waarde.\n",
    "\"P-waardes: ANOVA: {}, Kruskal-Wallis: {}\".format(p_anova, p_kruskal)"
   ]
  },
  {
   "cell_type": "markdown",
   "metadata": {},
   "source": [
    "Je ziet: kleine p-waardes. Dus de variabelen zijn waarschijnlijk afhankelijk.\n",
    "\n",
    "We kunnen ook een andere aanpak kiezen. We maken dan gebruik van het feit dat LotShape ordinaal is. We kunnen die variabele coderen als integer en de gecodeerde variabele dan als numeriek behandelen.\n",
    "\n",
    "We doen eerst de codering."
   ]
  },
  {
   "cell_type": "code",
   "execution_count": null,
   "metadata": {},
   "outputs": [],
   "source": [
    "# We maken eerst een encoder die de vertaling LotShape naar integer definieert.\n",
    "LotShape_encoder = {\"Reg\": 1, \"IR1\": 2, \"IR2\": 3, \"IR3\": 4}\n",
    "# Die kunnen we gebruiken om de codering in een nieuwe kolom te zetten.\n",
    "ames_housing_data[\"LotShapeCode\"] = ames_housing_data[\"LotShape\"].map(LotShape_encoder)\n",
    "\n",
    "ames_housing_data[[\"LotShape\", \"LotShapeCode\"]]"
   ]
  },
  {
   "cell_type": "markdown",
   "metadata": {},
   "source": [
    "Ziet er goed uit. Nu gaan we LotShapeCode vergelijken met de GrLivArea. Omdat LotShape een ordinale variabele is, moet je een ander soort correlatie berekenen. Namelijk Spearman correlatie."
   ]
  },
  {
   "cell_type": "code",
   "execution_count": null,
   "metadata": {},
   "outputs": [],
   "source": [
    "ames_housing_data[\"LotShapeCode\"].corr(ames_housing_data[\"GrLivArea\"], method=\"spearman\")"
   ]
  },
  {
   "cell_type": "markdown",
   "metadata": {},
   "source": [
    "Dat is een best lage correlatie coëfficient. Wat is nu waar? We weten het niet precies! Correlatie coëfficienten berekenen op ordinale variabelen is eigenlijk een beetje valsspelen. Maar ANOVA en Kruskal-Wallis leveren heel vaak hele lage p-waarden op. Gevoelsmatig ligt de correlatie coëfficient wat dichterbij de 'afhankelijkheid op het oog' dan de extreem lage p-waarden van Kruskal-Wallis en ANOVA.\n",
    "\n",
    "#### LotShape en SalePrice\n"
   ]
  },
  {
   "cell_type": "code",
   "execution_count": null,
   "metadata": {},
   "outputs": [],
   "source": [
    "sns.boxplot(ames_housing_data, x=\"LotShape\", y=\"SalePrice\")"
   ]
  },
  {
   "cell_type": "markdown",
   "metadata": {},
   "source": [
    "Het beeld van de grafiek lijkt wat anders te zijn bij Reg en IR1. Je ziet daar namelijk duidelijk een rechts-scheve verdeling. Die bij IR2 en zeker IR3 minder is te zien. Maar dat komt vooral omdat Reg en IR1 veel meer voorkomens hebben dan IR2 en IR3. Met een ander grafiektype is dat wat beter te zien."
   ]
  },
  {
   "cell_type": "code",
   "execution_count": null,
   "metadata": {},
   "outputs": [],
   "source": [
    "sns.stripplot(ames_housing_data, x=\"LotShape\", y=\"SalePrice\")"
   ]
  },
  {
   "cell_type": "markdown",
   "metadata": {},
   "source": [
    "Ook hier geldt dus weer: er lijkt een lichte afhankelijkheid te zijn tussen LotShape en SalePrice. Ook hier zouden we een statistiche analyse kunnen doen, maar we laten het voor wat het is.\n",
    "\n",
    "#### ExterQual en GrLivArea"
   ]
  },
  {
   "cell_type": "code",
   "execution_count": null,
   "metadata": {},
   "outputs": [],
   "source": [
    "sns.boxplot(ames_housing_data, x=\"ExterQual\", y=\"GrLivArea\", order=ExterQual_order)"
   ]
  },
  {
   "cell_type": "markdown",
   "metadata": {},
   "source": [
    "Hier zien we een duidelijk verband: hoe groter het huis, hoe beter de kwaliteit van de buitenkant. Je kunt daar allerlei mogelijke verklaringen voor bedenken, bijvoorbeeld: Mensen met een groot huis hebben meer geld en daardoor ook meer geld beschikbaar voor onderhoud.\n",
    "\n",
    "#### ExterQual en SalePrice\n",
    "\n",
    "Voor de kwaliteit en de verkoopprijs verwachten we natuurlijk een verband."
   ]
  },
  {
   "cell_type": "code",
   "execution_count": null,
   "metadata": {},
   "outputs": [],
   "source": [
    "sns.boxplot(ames_housing_data, x=\"ExterQual\", y=\"SalePrice\", order=ExterQual_order)"
   ]
  },
  {
   "cell_type": "markdown",
   "metadata": {},
   "source": [
    "En jawel, hoe beter de kwaliteit hoe hoger de prijs.\n",
    "\n",
    "#### OverallQual en de numerieke variabelen\n",
    "\n",
    "Er is een sterke afhankelijkheid tussen ExterQual en OverallQual. Dus we verwachten dezelfde verbanden te zien. Laten we eens kijken."
   ]
  },
  {
   "cell_type": "code",
   "execution_count": null,
   "metadata": {},
   "outputs": [],
   "source": [
    "sns.boxplot(ames_housing_data, x=\"OverallQual\", y=\"GrLivArea\")"
   ]
  },
  {
   "cell_type": "code",
   "execution_count": null,
   "metadata": {},
   "outputs": [],
   "source": [
    "sns.boxplot(ames_housing_data, x=\"OverallQual\", y=\"SalePrice\")"
   ]
  },
  {
   "cell_type": "markdown",
   "metadata": {},
   "source": [
    "\n",
    "De twee bovenstaande grafieken zijn inderdaad zoals verwacht.\n",
    "\n",
    "#### Neighborhood en GrLivArea"
   ]
  },
  {
   "cell_type": "code",
   "execution_count": null,
   "metadata": {},
   "outputs": [],
   "source": [
    "ax = sns.boxplot(ames_housing_data, x=\"Neighborhood\", y=\"GrLivArea\")\n",
    "ax.tick_params(axis='x', rotation=90)"
   ]
  },
  {
   "cell_type": "markdown",
   "metadata": {},
   "source": [
    "Je ziet behoorlijke verschillen. Het kan wel fijn zijn om de wijken te sorteren op de mean van de GrLivArea."
   ]
  },
  {
   "cell_type": "code",
   "execution_count": null,
   "metadata": {},
   "outputs": [],
   "source": [
    "ax = sns.boxplot(ames_housing_data, x=\"Neighborhood\", y=\"GrLivArea\",\n",
    "                 order=ames_housing_data.groupby([\"Neighborhood\"])[\"GrLivArea\"].median().sort_values().index)\n",
    "ax.tick_params(axis='x', rotation=90)"
   ]
  },
  {
   "cell_type": "markdown",
   "metadata": {},
   "source": [
    "Ook nu zien we inderdaad dat het woonoppervlakte verschilt per wijk. Dat is ook wel in lijn met wat je zou verwachten.\n",
    "\n",
    "#### NeighborHood en SalePrice"
   ]
  },
  {
   "cell_type": "code",
   "execution_count": null,
   "metadata": {},
   "outputs": [],
   "source": [
    "ax = sns.boxplot(ames_housing_data, x=\"Neighborhood\", y=\"SalePrice\",\n",
    "                 order=ames_housing_data.groupby([\"Neighborhood\"])[\"SalePrice\"].median().sort_values().index)\n",
    "ax.tick_params(axis='x', rotation=90)"
   ]
  },
  {
   "cell_type": "markdown",
   "metadata": {},
   "source": [
    "Zoals te verwachten was: de verkoopprijs van huizen lijkt afhankelijk te zijn van de wijk.\n",
    "\n",
    "### Drietallen van variabelen\n",
    "\n",
    "Soms wil je ook de relatie zien tussen drie variabelen. Er zijn veel verschillende combinaties. Hier bekijken we er twee.\n",
    "\n",
    "#### SalePrice, GrLivArea, ExterQual\n",
    "\n",
    "We kijken naar de relatie tussen de SalePrice, GrLivArea en de LotShape. Dat zijn twee numerieke variabelen en één categorische. Dat kun je als volgt visueel maken. We gebruiken de log transformaties. Daar worden de grafieken beter leesbaar van."
   ]
  },
  {
   "cell_type": "code",
   "execution_count": null,
   "metadata": {},
   "outputs": [],
   "source": [
    "sns.scatterplot(ames_housing_data, x=\"GrLivAreaLog\", y=\"SalePriceLog\", hue=\"ExterQual\")"
   ]
  },
  {
   "cell_type": "markdown",
   "metadata": {},
   "source": [
    "Hier zie je als het ware clusters van huizen met dezelfde kwaliteit. Je kunt een categorische variable ook in één keer met alle numerieke variabelen vergelijken met een pairplot. Op de diagonaal zie je dan de vergelijking met een numerieke variabele. In de overige vakken de vergelijking met alle mogelijke tweetallen."
   ]
  },
  {
   "cell_type": "code",
   "execution_count": null,
   "metadata": {},
   "outputs": [],
   "source": [
    "sns.pairplot(ames_housing_data[num_vars + [\"LotShape\"]], hue=\"LotShape\")"
   ]
  },
  {
   "cell_type": "markdown",
   "metadata": {},
   "source": [
    "Bovenstaande grafiek geeft ons niet zoveel inzicht. In het algemeen is een grafiek als deze bruikbaar als je specifiek geïnteresseerd bent in één categorische variabele, met name als je die wilt voorspellen met een classificatie model.\n",
    "\n",
    "#### LotShape, ExterQuall, SalePrice\n",
    "\n",
    "Nu kijken we naar twee categorische variabelen (LotShape en ExterQuall) en een numerieke (SalePrice). Het is dan helpend om de data te aggregeren."
   ]
  },
  {
   "cell_type": "code",
   "execution_count": null,
   "metadata": {},
   "outputs": [],
   "source": [
    "mean_SalePrice = ames_housing_data.groupby(['LotShape', 'ExterQual'])['SalePrice'].mean()\n",
    "mean_SalePrice"
   ]
  },
  {
   "cell_type": "markdown",
   "metadata": {},
   "source": [
    "Nuttig, maar we willen dit liever zien in een grafiek."
   ]
  },
  {
   "cell_type": "code",
   "execution_count": null,
   "metadata": {},
   "outputs": [],
   "source": [
    "# Merk op dat we bovenstaande groupby tabel niet nodig hebben.\n",
    "# Dat doet seaborn voor ons.\n",
    "sns.catplot(data=ames_housing_data, x='LotShape', y='SalePrice',\n",
    "            hue='ExterQual', hue_order=ExterQual_order,\n",
    "            kind='bar', errorbar=None)"
   ]
  },
  {
   "cell_type": "markdown",
   "metadata": {},
   "source": [
    "Wat hier opvalt is dat bij Reg, IR1, IR2 een zelfde patroon is te zien in de relatie SalePrice en ExterQual. Maar dat patroon wordt gebroken bij IR3. Echter, neem in herinnering dat er maar 10 rijen zijn met IR3. Hier kunnen we dus geen conclusies uit trekken.\n",
    "\n",
    "## Conclusie\n",
    "\n",
    "We hebben alle variabelen afzonderlijk bekeken en ook alle mogelijke tweetallen van variabelen met elkaar vergeleken. Dat heeft een aantal inzichten gegeven. Bijvoorbeeld dat de huizenprijs verschilt per wijk (zoals je zou verwachten). Dat soort inzichten kunnen ons helpen als we meer gericht met de data aan de slag gaan. Bijvoorbeeld als we met machine learning een voorspelling zouden willen doen van de huizenprijs. Een interessante vraag daarbij is in welke mate de variabelen gezamenlijk de huizenprijs beter kunnen voorspellen dan we hier hebben gezien bij de analyse van tweetallen."
   ]
  },
  {
   "cell_type": "code",
   "execution_count": null,
   "metadata": {},
   "outputs": [],
   "source": []
  }
 ],
 "metadata": {
  "kernelspec": {
   "display_name": "Python 3 (ipykernel)",
   "language": "python",
   "name": "python3"
  },
  "language_info": {
   "codemirror_mode": {
    "name": "ipython",
    "version": 3
   },
   "file_extension": ".py",
   "mimetype": "text/x-python",
   "name": "python",
   "nbconvert_exporter": "python",
   "pygments_lexer": "ipython3",
   "version": "3.9.13"
  }
 },
 "nbformat": 4,
 "nbformat_minor": 1
}
