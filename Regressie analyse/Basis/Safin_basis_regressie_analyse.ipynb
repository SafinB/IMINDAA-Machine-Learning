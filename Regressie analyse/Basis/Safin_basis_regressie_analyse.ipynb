{
 "cells": [
  {
   "cell_type": "markdown",
   "id": "53f14077",
   "metadata": {},
   "source": [
    "# Basis regressieanalyse"
   ]
  },
  {
   "cell_type": "markdown",
   "id": "cd102b48",
   "metadata": {},
   "source": [
    "In dit notitieboekje werken we aan regressie. We gebruiken een subset van de student_performance_data met ontbrekende waarden.\n",
    "\n",
    "We gaan ervan uit dat de doelvariabele G3 is en we voeren een regressieanalyse uit met behulp van de onafhankelijke variabelen noemen, G3 waarnaar we in dit notitieboek verwijzen als de afhankelijke variabele of de doelvariabele."
   ]
  },
  {
   "cell_type": "markdown",
   "id": "ccdade05",
   "metadata": {},
   "source": [
    "1. Data laden\n",
    "2. Bereid de gegevens voor\n",
    "3. Regressie analyse\n",
    "4. Identificeer de beste voorbewerking combinatie voor regressie\n",
    "5. Controleer andere modellen voor regressie"
   ]
  },
  {
   "cell_type": "code",
   "execution_count": 1,
   "id": "5e7467aa",
   "metadata": {},
   "outputs": [],
   "source": [
    "import pandas as pd\n",
    "import numpy as np\n",
    "import seaborn as sns\n",
    "import matplotlib.pyplot as plt\n",
    "import category_encoders as ce\n",
    "\n",
    "import scipy.stats as stats\n",
    "\n",
    "from sklearn.preprocessing import RobustScaler, MinMaxScaler, StandardScaler, OneHotEncoder, LabelEncoder\n",
    "from sklearn.impute import SimpleImputer\n",
    "from sklearn.pipeline import Pipeline, make_pipeline\n",
    "from sklearn.svm import SVR\n",
    "from sklearn.linear_model import LinearRegression, Lasso, Ridge\n",
    "from sklearn.metrics import r2_score, mean_squared_error, mean_absolute_error\n",
    "\n",
    "from sklearn.model_selection import train_test_split, GridSearchCV\n",
    "import statsmodels.api as sm\n",
    "from category_encoders import TargetEncoder\n",
    "from sklearn.compose import ColumnTransformer, make_column_transformer\n",
    "from sklearn.base import BaseEstimator, TransformerMixin"
   ]
  },
  {
   "cell_type": "markdown",
   "id": "b76f32f0",
   "metadata": {},
   "source": [
    "# 1) Laad de gegevens en scheid de kolommen\n",
    "\n",
    "Uiteraard begin ik met het inladen van de data"
   ]
  },
  {
   "cell_type": "code",
   "execution_count": 2,
   "id": "f746fed4",
   "metadata": {},
   "outputs": [
    {
     "data": {
      "text/html": [
       "<div>\n",
       "<style scoped>\n",
       "    .dataframe tbody tr th:only-of-type {\n",
       "        vertical-align: middle;\n",
       "    }\n",
       "\n",
       "    .dataframe tbody tr th {\n",
       "        vertical-align: top;\n",
       "    }\n",
       "\n",
       "    .dataframe thead th {\n",
       "        text-align: right;\n",
       "    }\n",
       "</style>\n",
       "<table border=\"1\" class=\"dataframe\">\n",
       "  <thead>\n",
       "    <tr style=\"text-align: right;\">\n",
       "      <th></th>\n",
       "      <th>age</th>\n",
       "      <th>sex</th>\n",
       "      <th>Medu</th>\n",
       "      <th>Fedu</th>\n",
       "      <th>reason</th>\n",
       "      <th>absences</th>\n",
       "      <th>G1</th>\n",
       "      <th>G3</th>\n",
       "    </tr>\n",
       "  </thead>\n",
       "  <tbody>\n",
       "    <tr>\n",
       "      <th>0</th>\n",
       "      <td>18</td>\n",
       "      <td>F</td>\n",
       "      <td>4</td>\n",
       "      <td>4</td>\n",
       "      <td>course</td>\n",
       "      <td>6</td>\n",
       "      <td>5</td>\n",
       "      <td>6</td>\n",
       "    </tr>\n",
       "    <tr>\n",
       "      <th>1</th>\n",
       "      <td>17</td>\n",
       "      <td>F</td>\n",
       "      <td>1</td>\n",
       "      <td>1</td>\n",
       "      <td>course</td>\n",
       "      <td>4</td>\n",
       "      <td>5</td>\n",
       "      <td>6</td>\n",
       "    </tr>\n",
       "    <tr>\n",
       "      <th>2</th>\n",
       "      <td>15</td>\n",
       "      <td>F</td>\n",
       "      <td>1</td>\n",
       "      <td>1</td>\n",
       "      <td>other</td>\n",
       "      <td>10</td>\n",
       "      <td>7</td>\n",
       "      <td>10</td>\n",
       "    </tr>\n",
       "    <tr>\n",
       "      <th>3</th>\n",
       "      <td>15</td>\n",
       "      <td>F</td>\n",
       "      <td>4</td>\n",
       "      <td>2</td>\n",
       "      <td>home</td>\n",
       "      <td>2</td>\n",
       "      <td>15</td>\n",
       "      <td>15</td>\n",
       "    </tr>\n",
       "    <tr>\n",
       "      <th>4</th>\n",
       "      <td>16</td>\n",
       "      <td>F</td>\n",
       "      <td>3</td>\n",
       "      <td>3</td>\n",
       "      <td>home</td>\n",
       "      <td>4</td>\n",
       "      <td>6</td>\n",
       "      <td>10</td>\n",
       "    </tr>\n",
       "    <tr>\n",
       "      <th>...</th>\n",
       "      <td>...</td>\n",
       "      <td>...</td>\n",
       "      <td>...</td>\n",
       "      <td>...</td>\n",
       "      <td>...</td>\n",
       "      <td>...</td>\n",
       "      <td>...</td>\n",
       "      <td>...</td>\n",
       "    </tr>\n",
       "    <tr>\n",
       "      <th>1039</th>\n",
       "      <td>19</td>\n",
       "      <td>F</td>\n",
       "      <td>2</td>\n",
       "      <td>3</td>\n",
       "      <td>course</td>\n",
       "      <td>4</td>\n",
       "      <td>10</td>\n",
       "      <td>10</td>\n",
       "    </tr>\n",
       "    <tr>\n",
       "      <th>1040</th>\n",
       "      <td>18</td>\n",
       "      <td>F</td>\n",
       "      <td>3</td>\n",
       "      <td>1</td>\n",
       "      <td>course</td>\n",
       "      <td>4</td>\n",
       "      <td>15</td>\n",
       "      <td>16</td>\n",
       "    </tr>\n",
       "    <tr>\n",
       "      <th>1041</th>\n",
       "      <td>18</td>\n",
       "      <td>F</td>\n",
       "      <td>1</td>\n",
       "      <td>1</td>\n",
       "      <td>course</td>\n",
       "      <td>6</td>\n",
       "      <td>11</td>\n",
       "      <td>9</td>\n",
       "    </tr>\n",
       "    <tr>\n",
       "      <th>1042</th>\n",
       "      <td>17</td>\n",
       "      <td>M</td>\n",
       "      <td>3</td>\n",
       "      <td>1</td>\n",
       "      <td>course</td>\n",
       "      <td>6</td>\n",
       "      <td>10</td>\n",
       "      <td>10</td>\n",
       "    </tr>\n",
       "    <tr>\n",
       "      <th>1043</th>\n",
       "      <td>18</td>\n",
       "      <td>M</td>\n",
       "      <td>3</td>\n",
       "      <td>2</td>\n",
       "      <td>course</td>\n",
       "      <td>4</td>\n",
       "      <td>10</td>\n",
       "      <td>11</td>\n",
       "    </tr>\n",
       "  </tbody>\n",
       "</table>\n",
       "<p>1044 rows × 8 columns</p>\n",
       "</div>"
      ],
      "text/plain": [
       "      age sex  Medu  Fedu  reason  absences  G1  G3\n",
       "0      18   F     4     4  course         6   5   6\n",
       "1      17   F     1     1  course         4   5   6\n",
       "2      15   F     1     1   other        10   7  10\n",
       "3      15   F     4     2    home         2  15  15\n",
       "4      16   F     3     3    home         4   6  10\n",
       "...   ...  ..   ...   ...     ...       ...  ..  ..\n",
       "1039   19   F     2     3  course         4  10  10\n",
       "1040   18   F     3     1  course         4  15  16\n",
       "1041   18   F     1     1  course         6  11   9\n",
       "1042   17   M     3     1  course         6  10  10\n",
       "1043   18   M     3     2  course         4  10  11\n",
       "\n",
       "[1044 rows x 8 columns]"
      ]
     },
     "execution_count": 2,
     "metadata": {},
     "output_type": "execute_result"
    }
   ],
   "source": [
    "student_performance_data = pd.read_csv(\"student_performance_basis.csv\")\n",
    "student_performance_data"
   ]
  },
  {
   "cell_type": "code",
   "execution_count": 3,
   "id": "46e19a43",
   "metadata": {},
   "outputs": [
    {
     "data": {
      "text/html": [
       "<div>\n",
       "<style scoped>\n",
       "    .dataframe tbody tr th:only-of-type {\n",
       "        vertical-align: middle;\n",
       "    }\n",
       "\n",
       "    .dataframe tbody tr th {\n",
       "        vertical-align: top;\n",
       "    }\n",
       "\n",
       "    .dataframe thead th {\n",
       "        text-align: right;\n",
       "    }\n",
       "</style>\n",
       "<table border=\"1\" class=\"dataframe\">\n",
       "  <thead>\n",
       "    <tr style=\"text-align: right;\">\n",
       "      <th></th>\n",
       "      <th>age</th>\n",
       "      <th>sex</th>\n",
       "      <th>Medu</th>\n",
       "      <th>Fedu</th>\n",
       "      <th>reason</th>\n",
       "      <th>absences</th>\n",
       "      <th>G1</th>\n",
       "      <th>G3</th>\n",
       "    </tr>\n",
       "  </thead>\n",
       "  <tbody>\n",
       "    <tr>\n",
       "      <th>0</th>\n",
       "      <td>18</td>\n",
       "      <td>F</td>\n",
       "      <td>4</td>\n",
       "      <td>4</td>\n",
       "      <td>course</td>\n",
       "      <td>6</td>\n",
       "      <td>5</td>\n",
       "      <td>6</td>\n",
       "    </tr>\n",
       "    <tr>\n",
       "      <th>1</th>\n",
       "      <td>17</td>\n",
       "      <td>F</td>\n",
       "      <td>1</td>\n",
       "      <td>1</td>\n",
       "      <td>course</td>\n",
       "      <td>4</td>\n",
       "      <td>5</td>\n",
       "      <td>6</td>\n",
       "    </tr>\n",
       "    <tr>\n",
       "      <th>2</th>\n",
       "      <td>15</td>\n",
       "      <td>F</td>\n",
       "      <td>1</td>\n",
       "      <td>1</td>\n",
       "      <td>other</td>\n",
       "      <td>10</td>\n",
       "      <td>7</td>\n",
       "      <td>10</td>\n",
       "    </tr>\n",
       "    <tr>\n",
       "      <th>3</th>\n",
       "      <td>15</td>\n",
       "      <td>F</td>\n",
       "      <td>4</td>\n",
       "      <td>2</td>\n",
       "      <td>home</td>\n",
       "      <td>2</td>\n",
       "      <td>15</td>\n",
       "      <td>15</td>\n",
       "    </tr>\n",
       "    <tr>\n",
       "      <th>4</th>\n",
       "      <td>16</td>\n",
       "      <td>F</td>\n",
       "      <td>3</td>\n",
       "      <td>3</td>\n",
       "      <td>home</td>\n",
       "      <td>4</td>\n",
       "      <td>6</td>\n",
       "      <td>10</td>\n",
       "    </tr>\n",
       "    <tr>\n",
       "      <th>5</th>\n",
       "      <td>16</td>\n",
       "      <td>M</td>\n",
       "      <td>4</td>\n",
       "      <td>3</td>\n",
       "      <td>reputation</td>\n",
       "      <td>10</td>\n",
       "      <td>15</td>\n",
       "      <td>15</td>\n",
       "    </tr>\n",
       "    <tr>\n",
       "      <th>6</th>\n",
       "      <td>16</td>\n",
       "      <td>M</td>\n",
       "      <td>2</td>\n",
       "      <td>2</td>\n",
       "      <td>home</td>\n",
       "      <td>0</td>\n",
       "      <td>12</td>\n",
       "      <td>11</td>\n",
       "    </tr>\n",
       "    <tr>\n",
       "      <th>7</th>\n",
       "      <td>17</td>\n",
       "      <td>F</td>\n",
       "      <td>4</td>\n",
       "      <td>4</td>\n",
       "      <td>home</td>\n",
       "      <td>6</td>\n",
       "      <td>6</td>\n",
       "      <td>6</td>\n",
       "    </tr>\n",
       "    <tr>\n",
       "      <th>8</th>\n",
       "      <td>15</td>\n",
       "      <td>M</td>\n",
       "      <td>3</td>\n",
       "      <td>2</td>\n",
       "      <td>home</td>\n",
       "      <td>0</td>\n",
       "      <td>16</td>\n",
       "      <td>19</td>\n",
       "    </tr>\n",
       "    <tr>\n",
       "      <th>9</th>\n",
       "      <td>15</td>\n",
       "      <td>M</td>\n",
       "      <td>3</td>\n",
       "      <td>4</td>\n",
       "      <td>home</td>\n",
       "      <td>0</td>\n",
       "      <td>14</td>\n",
       "      <td>15</td>\n",
       "    </tr>\n",
       "  </tbody>\n",
       "</table>\n",
       "</div>"
      ],
      "text/plain": [
       "   age sex  Medu  Fedu      reason  absences  G1  G3\n",
       "0   18   F     4     4      course         6   5   6\n",
       "1   17   F     1     1      course         4   5   6\n",
       "2   15   F     1     1       other        10   7  10\n",
       "3   15   F     4     2        home         2  15  15\n",
       "4   16   F     3     3        home         4   6  10\n",
       "5   16   M     4     3  reputation        10  15  15\n",
       "6   16   M     2     2        home         0  12  11\n",
       "7   17   F     4     4        home         6   6   6\n",
       "8   15   M     3     2        home         0  16  19\n",
       "9   15   M     3     4        home         0  14  15"
      ]
     },
     "execution_count": 3,
     "metadata": {},
     "output_type": "execute_result"
    }
   ],
   "source": [
    "student_performance_data.head(10)"
   ]
  },
  {
   "cell_type": "code",
   "execution_count": 4,
   "id": "776b76c1",
   "metadata": {
    "scrolled": true
   },
   "outputs": [
    {
     "data": {
      "text/plain": [
       "Index(['age', 'sex', 'Medu', 'Fedu', 'reason', 'absences', 'G1', 'G3'], dtype='object')"
      ]
     },
     "execution_count": 4,
     "metadata": {},
     "output_type": "execute_result"
    }
   ],
   "source": [
    "student_performance_data.columns"
   ]
  },
  {
   "cell_type": "code",
   "execution_count": 5,
   "id": "5cfcc4e7",
   "metadata": {},
   "outputs": [
    {
     "name": "stdout",
     "output_type": "stream",
     "text": [
      "<class 'pandas.core.frame.DataFrame'>\n",
      "RangeIndex: 1044 entries, 0 to 1043\n",
      "Data columns (total 8 columns):\n",
      " #   Column    Non-Null Count  Dtype \n",
      "---  ------    --------------  ----- \n",
      " 0   age       1044 non-null   int64 \n",
      " 1   sex       1044 non-null   object\n",
      " 2   Medu      1044 non-null   int64 \n",
      " 3   Fedu      1044 non-null   int64 \n",
      " 4   reason    1044 non-null   object\n",
      " 5   absences  1044 non-null   int64 \n",
      " 6   G1        1044 non-null   int64 \n",
      " 7   G3        1044 non-null   int64 \n",
      "dtypes: int64(6), object(2)\n",
      "memory usage: 65.4+ KB\n"
     ]
    }
   ],
   "source": [
    "student_performance_data.info()"
   ]
  },
  {
   "cell_type": "markdown",
   "id": "04fe0bf9",
   "metadata": {},
   "source": [
    "#### missing values\n",
    "\n",
    "We zien hieronder dat er geen missing values in de dataset zitten. Wat heel fijn is om verder mee te werken"
   ]
  },
  {
   "cell_type": "code",
   "execution_count": 6,
   "id": "0ebc6e17",
   "metadata": {
    "scrolled": false
   },
   "outputs": [
    {
     "data": {
      "text/plain": [
       "age         0\n",
       "sex         0\n",
       "Medu        0\n",
       "Fedu        0\n",
       "reason      0\n",
       "absences    0\n",
       "G1          0\n",
       "G3          0\n",
       "dtype: int64"
      ]
     },
     "execution_count": 6,
     "metadata": {},
     "output_type": "execute_result"
    }
   ],
   "source": [
    "student_performance_data.isnull().sum()"
   ]
  },
  {
   "cell_type": "markdown",
   "id": "9333d84a",
   "metadata": {},
   "source": [
    "### Dataset Beschrijving\n",
    "De dataset bevat de volgende variabelen:\n",
    "\n",
    "- **Leeftijd (age):** De leeftijd van het individu.\n",
    "- **Geslacht (sex):** Het geslacht van het individu.\n",
    "- **Moeder Onderwijs (Medu):** Het niveau van onderwijs van de moeder.\n",
    "- **Vader Onderwijs (Fedu):** Het niveau van onderwijs van de vader.\n",
    "- **Reden (reason):** De reden voor het kiezen van de school.\n",
    "- **Afwezigheden (absences):** Het aantal gemiste schooldagen.\n",
    "- **G1 (Eerste termijn cijfer):** Het cijfer behaald in de eerste termijn.\n",
    "- **G3 (Eindcijfer):** Het uiteindelijke cijfer aan het einde van het schooljaar.\n",
    "\n",
    "### Data Dictionary\n",
    "\n",
    "Laten we beginnen met het bekijken van de data dictionary om een beter begrip te krijgen van de variabelen in de dataset.\n",
    "\n",
    "| Variabele naam | Datatype | Numeriek/Categorisch | Soort variabele | Toelichting |\n",
    "|----------------|----------|-----------------------|-----------------|-------------|\n",
    "| age            | Integer  | Numeriek              | Ratio           | Leeftijd van het individu |\n",
    "| sex            | String   | Categorisch          | Nominaal        | Geslacht van het individu ('M' of 'V') |\n",
    "| Medu           | Integer  | Categorisch              | Ordinaal        | Niveau van moeder's onderwijs: 0 (geen) tot 4 (hoger onderwijs) |\n",
    "| Fedu           | Integer  | Categorisch              | Ordinaal        | Niveau van vader's onderwijs: 0 (geen) tot 4 (hoger onderwijs) |\n",
    "| reason         | String   | Categorisch          | Nominaal        | Reden voor het kiezen van de school: 'dichtbij', 'school', 'reputatie', 'andere' |\n",
    "| absences       | Integer  | Numeriek              | Ratio           | Aantal gemiste schooldagen |\n",
    "| G1             | Integer  | Numeriek              | Ratio           | Cijfer behaald in de eerste termijn |\n",
    "| G3             | Integer  | Numeriek              | Ratio           | Eindcijfer aan het einde van het schooljaar |\n"
   ]
  },
  {
   "cell_type": "code",
   "execution_count": 7,
   "id": "e399928f",
   "metadata": {},
   "outputs": [],
   "source": [
    "afhankelijke_var = [\"G1\", \"G3\"]\n",
    "categorisch_var= [\"Medu\", \"Fedu\", \"reason\", \"sex\"] \n",
    "numeriek_var = [\"age\", \"absences\"]"
   ]
  },
  {
   "cell_type": "markdown",
   "id": "03ceab73",
   "metadata": {},
   "source": [
    "Hieronder heb ik een functie geschreven die kijkt welke waardes target encoding nodig hebben."
   ]
  },
  {
   "cell_type": "code",
   "execution_count": 8,
   "id": "61676de9",
   "metadata": {},
   "outputs": [
    {
     "name": "stdout",
     "output_type": "stream",
     "text": [
      "Categorische variabelen met target encoding:\n",
      "['reason', 'sex']\n"
     ]
    }
   ],
   "source": [
    "target_encoded_features = []\n",
    "\n",
    "threshold_for_target_encoding = 5\n",
    "\n",
    "for col in categorisch_var:\n",
    "    if student_performance_data[col].nunique() < threshold_for_target_encoding:\n",
    "        target_encoder = TargetEncoder()\n",
    "        student_performance_data[col] = target_encoder.fit_transform(student_performance_data[col].astype(str), \n",
    "                                                                     student_performance_data['G3'])\n",
    "        target_encoded_features.append(col)\n",
    "\n",
    "print(\"Categorische variabelen met target encoding:\")\n",
    "print(target_encoded_features)"
   ]
  },
  {
   "cell_type": "markdown",
   "id": "4f25ba2e",
   "metadata": {},
   "source": [
    "# Opdracht 2: Gegevensvoorbewerking\n",
    "\n",
    "Op dit punt bereid je de gegevens voor zodat je ze later kunt gebruiken voor regressie. Hieronder ga ik de reason en sex waardes target encoden zodat ze beide een INT waarde gaan hebben in plaats van String"
   ]
  },
  {
   "cell_type": "code",
   "execution_count": 9,
   "id": "b67f5df6",
   "metadata": {},
   "outputs": [],
   "source": [
    "class CustomLabelEncoder(BaseEstimator, TransformerMixin):\n",
    "    def __init__(self, columns_to_encode):\n",
    "        self.columns_to_encode = columns_to_encode\n",
    "        self.label_encoders = {}\n",
    "\n",
    "    def fit(self, X, y=None):\n",
    "        for column in self.columns_to_encode:\n",
    "            le = LabelEncoder()\n",
    "            le.fit(X[column])\n",
    "            self.label_encoders[column] = le\n",
    "        return self\n",
    "\n",
    "    def transform(self, X):\n",
    "        X_encoded = X.copy()\n",
    "        for column, le in self.label_encoders.items():\n",
    "            X_encoded[column] = le.transform(X[column])\n",
    "        return X_encoded"
   ]
  },
  {
   "cell_type": "code",
   "execution_count": 10,
   "id": "ec7acf4e",
   "metadata": {},
   "outputs": [
    {
     "name": "stdout",
     "output_type": "stream",
     "text": [
      "    age  sex  Medu  Fedu  reason  absences  G1  G3\n",
      "0    18    1     4     4       1         6   5   6\n",
      "1    17    1     1     1       1         4   5   6\n",
      "2    15    1     1     1       0        10   7  10\n",
      "3    15    1     4     2       2         2  15  15\n",
      "4    16    1     3     3       2         4   6  10\n",
      "5    16    0     4     3       3        10  15  15\n",
      "6    16    0     2     2       2         0  12  11\n",
      "7    17    1     4     4       2         6   6   6\n",
      "8    15    0     3     2       2         0  16  19\n",
      "9    15    0     3     4       2         0  14  15\n",
      "10   15    1     4     4       3         0  10   9\n",
      "11   15    1     2     1       3         4  10  12\n",
      "12   15    0     4     4       1         2  14  14\n",
      "13   15    0     4     3       1         2  10  11\n",
      "14   15    0     2     2       2         0  14  16\n",
      "15   16    1     4     4       2         4  14  14\n",
      "16   16    1     4     4       3         6  13  14\n",
      "17   16    1     3     3       3         4   8  10\n",
      "18   17    0     3     2       1        16   6   5\n",
      "19   16    0     4     3       2         4   8  10\n"
     ]
    }
   ],
   "source": [
    "custom_encoder = CustomLabelEncoder(columns_to_encode=['sex', 'reason'])\n",
    "\n",
    "custom_encoder.fit(student_performance_data)\n",
    "\n",
    "encoded_data = custom_encoder.transform(student_performance_data)\n",
    "\n",
    "print(encoded_data.head(20))"
   ]
  },
  {
   "cell_type": "markdown",
   "id": "57daf3b7",
   "metadata": {},
   "source": [
    "Alles is omgezet naar int. Nu kunnen we verder kijken en betere analyses uitvoeren met de data"
   ]
  },
  {
   "cell_type": "markdown",
   "id": "b3078a67",
   "metadata": {},
   "source": [
    "# Opdracht 3: Regressieanalyse\n",
    "\n",
    "Ik begin met het bekijken van de relaties tussen G3 en alle andere variabelen met een corr matrix."
   ]
  },
  {
   "cell_type": "code",
   "execution_count": 11,
   "id": "ecc0e46d",
   "metadata": {
    "scrolled": false
   },
   "outputs": [
    {
     "name": "stdout",
     "output_type": "stream",
     "text": [
      "G3          1.000000\n",
      "G1          0.809142\n",
      "Medu        0.201472\n",
      "Fedu        0.159796\n",
      "reason      0.123221\n",
      "sex         0.031472\n",
      "absences   -0.045671\n",
      "age        -0.125282\n",
      "Name: G3, dtype: float64\n"
     ]
    }
   ],
   "source": [
    "correlation_matrix = encoded_data.corr()\n",
    "print(correlation_matrix['G3'].sort_values(ascending=False))"
   ]
  },
  {
   "cell_type": "markdown",
   "id": "b8958b86",
   "metadata": {},
   "source": [
    "- G3 en G1 (eindcijfers en cijfers voor de eerste termijn): Positieve sterke correlatie (0.809142): Dit betekent dat mijn eindcijfers sterk samenhangen met mijn cijfers voor de eerste termijn. Als mijn cijfers voor de eerste termijn goed zijn, is de kans groot dat mijn eindcijfers ook hoog zullen zijn.\n",
    "\n",
    "\n",
    "- G3 en Medu (opleidingsniveau moeder): Positieve matige correlatie (0.201472): Er lijkt een matige positieve relatie te zijn tussen het opleidingsniveau van mijn moeder en mijn eindcijfers. Dit suggereert dat hoger opgeleide moeders mogelijk verband houden met betere eindcijfers.\n",
    "\n",
    "\n",
    "- G3 en Fedu (opleidingsniveau vader): Positieve matige correlatie (0.159796): Op vergelijkbare wijze wijst dit op een matige positieve relatie tussen het opleidingsniveau van mijn vader en mijn eindcijfers.\n",
    "\n",
    "\n",
    "- G3 en reason (reden voor het kiezen van de school): Positieve zwakke correlatie (0.123221): Er lijkt een zwakke positieve relatie te zijn tussen de reden voor het kiezen van de school en mijn eindcijfers. Dit impliceert dat de reden voor schoolkeuze mogelijk enige invloed heeft op mijn prestaties.\n",
    "\n",
    "\n",
    "- G3 en sex (geslacht): Positieve zwakke correlatie (0.031472): Er is een zwakke positieve relatie tussen mijn geslacht en eindcijfers. Het geeft aan dat er een lichte associatie is tussen geslacht en prestaties, hoewel dit effect klein is.\n",
    "\n",
    "\n",
    "- G3 en absences (aantal gemiste schooldagen): Negatieve zwakke correlatie (-0.045671): Er lijkt een zwakke negatieve relatie te zijn tussen het aantal gemiste schooldagen en mijn eindcijfers. Dit suggereert dat een hoger aantal gemiste dagen geassocieerd kan zijn met iets lagere eindcijfers.\n",
    "\n",
    "\n",
    "- G3 en age (leeftijd): Negatieve zwakke correlatie (-0.125282): Er is een zwakke negatieve relatie tussen mijn leeftijd en eindcijfers. Dit suggereert dat oudere studenten mogelijk iets lagere eindcijfers hebben."
   ]
  },
  {
   "cell_type": "markdown",
   "id": "cf968e9d",
   "metadata": {},
   "source": [
    "De data zit nu goed. Ik ga als eerst beginnen met een lineare regressie op G3 en G1. Ik wil dieper op de twee ingaan en kijken wat de relatie tussen de twee is"
   ]
  },
  {
   "cell_type": "code",
   "execution_count": 12,
   "id": "40a12539",
   "metadata": {
    "scrolled": true
   },
   "outputs": [
    {
     "name": "stdout",
     "output_type": "stream",
     "text": [
      "Mean Squared Error: 6.000556947111154\n",
      "R-squared (R2): 0.6118861972464962\n"
     ]
    }
   ],
   "source": [
    "independent_variable = 'G1'\n",
    "dependent_variable = 'G3'\n",
    "\n",
    "train_data, test_data = train_test_split(student_performance_data, test_size=0.2, random_state=42)\n",
    "\n",
    "X_train = train_data[[independent_variable]]\n",
    "y_train = train_data[dependent_variable]\n",
    "X_test = test_data[[independent_variable]]\n",
    "y_test = test_data[dependent_variable]\n",
    "\n",
    "model = LinearRegression()\n",
    "\n",
    "model.fit(X_train, y_train)\n",
    "\n",
    "predictions = model.predict(X_test)\n",
    "\n",
    "mse = mean_squared_error(y_test, predictions)\n",
    "r2 = r2_score(y_test, predictions)\n",
    "\n",
    "print(f'Mean Squared Error: {mse}')\n",
    "print(f'R-squared (R2): {r2}')"
   ]
  },
  {
   "cell_type": "markdown",
   "id": "7dc304e3",
   "metadata": {},
   "source": [
    "In mijn poging om het eindcijfer (G3) te voorspellen op basis van het eerste termijn cijfer (G1), heb ik een lineair regressiemodel ontwikkeld en geëvalueerd. De resultaten bieden inzicht in hoe goed het model presteert.\n",
    "\n",
    "Het model toont een Mean Squared Error (MSE) van 6.00, wat aangeeft dat het gemiddelde van de gekwadrateerde verschillen tussen de voorspelde en werkelijke eindcijfers ongeveer 6.00 is. Deze waarde duidt op een redelijke mate van nauwkeurigheid in de voorspellingen, waarbij lagere MSE-waarden wijzen op minder voorspellingsfouten.\n",
    "\n",
    "De R-squared (R2) waarde van 0.61 is positief, wat betekent dat ongeveer 61.2% van de variabiliteit in het eindcijfer wordt verklaard door het eerste termijn cijfer. Dit suggereert dat het model een aanzienlijk deel van de variabiliteit in G3 kan vastleggen op basis van G1.\n",
    "\n",
    "In termen van interpretatie betekent dit dat het eerste termijn cijfer (G1) een sterke voorspeller is voor het uiteindelijke eindcijfer (G3). De hoge R2-waarde geeft aan dat het model goed presteert in het verklaren van de variabiliteit in G3 op basis van G1. Over het algemeen kan worden geconcludeerd dat het model redelijk effectief is in het voorspellen van het eindcijfer op basis van het eerste termijn cijfer."
   ]
  },
  {
   "cell_type": "code",
   "execution_count": 13,
   "id": "54a4450b",
   "metadata": {},
   "outputs": [
    {
     "data": {
      "image/png": "[encoded data removed]",
      "text/plain": [
       "<Figure size 640x480 with 1 Axes>"
      ]
     },
     "metadata": {},
     "output_type": "display_data"
    }
   ],
   "source": [
    "plt.scatter(X_test, y_test, color='black')\n",
    "plt.plot(X_test, predictions, color='blue', linewidth=3)\n",
    "plt.title('Lineaire Regressie')\n",
    "plt.xlabel(independent_variable)\n",
    "plt.ylabel(dependent_variable)\n",
    "plt.show()"
   ]
  },
  {
   "cell_type": "markdown",
   "id": "869786b1",
   "metadata": {},
   "source": [
    "Nu gaan we kijken naar de doelvariabel en een paar onafhankelijke variabelen. Ik heb gekozen voor de onafhankelijke variabelen: sex, age, medu en fedu, omdat ik denk dat ze veel met elkaar te maken hebben"
   ]
  },
  {
   "cell_type": "code",
   "execution_count": 14,
   "id": "529b5a83",
   "metadata": {},
   "outputs": [],
   "source": [
    "X = student_performance_data.drop('G3', axis=1)\n",
    "y = student_performance_data['G3']\n",
    "\n",
    "X_train, X_test, y_train, y_test = train_test_split(X, y, test_size=0.2, random_state=42)\n",
    "\n",
    "categorical_cols = ['sex']\n",
    "categorical_transformer = Pipeline(steps=[\n",
    "    ('onehot', OneHotEncoder(handle_unknown='ignore'))\n",
    "])\n",
    "\n",
    "numerical_cols = ['age', 'Medu', 'Fedu']\n",
    "numerical_transformer = Pipeline(steps=[\n",
    "    ('imputer', SimpleImputer(strategy='mean'))\n",
    "])\n",
    "\n",
    "preprocessor = ColumnTransformer(\n",
    "    transformers=[\n",
    "        ('num', numerical_transformer, numerical_cols),\n",
    "        ('cat', categorical_transformer, categorical_cols)\n",
    "    ])\n",
    "\n",
    "model = Pipeline(steps=[\n",
    "    ('preprocessor', preprocessor),\n",
    "    ('regressor', LinearRegression())\n",
    "])"
   ]
  },
  {
   "cell_type": "code",
   "execution_count": 15,
   "id": "48b25e8b",
   "metadata": {
    "scrolled": false
   },
   "outputs": [
    {
     "name": "stdout",
     "output_type": "stream",
     "text": [
      "Mean Squared Error: 14.811434236983358\n",
      "R-squared (R2): 0.042001914719505984\n"
     ]
    }
   ],
   "source": [
    "model.fit(X_train, y_train)\n",
    "\n",
    "predictions = model.predict(X_test)\n",
    "\n",
    "mse = mean_squared_error(y_test, predictions)\n",
    "r2 = r2_score(y_test, predictions)\n",
    "\n",
    "print(f'Mean Squared Error: {mse}')\n",
    "print(f'R-squared (R2): {r2}')"
   ]
  },
  {
   "cell_type": "markdown",
   "id": "f6d0d6aa",
   "metadata": {},
   "source": [
    "In mijn poging om de eindcijfers (G3) te voorspellen op basis van verschillende kenmerken, zoals leeftijd, moeder's onderwijsniveau, vader's onderwijsniveau en geslacht, heb ik een regressiemodel ontwikkeld en geëvalueerd. De resultaten geven inzicht in hoe goed het model presteert en wat we kunnen afleiden.\n",
    "\n",
    "Het model toont een Mean Squared Error (MSE) van 14.80, wat betekent dat het gemiddelde van de gekwadrateerde verschillen tussen de voorspelde en werkelijke eindcijfers ongeveer 14.80 is. Deze waarde geeft aan dat het model aanzienlijke onnauwkeurigheid vertoont bij het voorspellen van de eindcijfers.\n",
    "\n",
    "De R-squared (R2) waarde van 0.04 onthult dat slechts ongeveer 4.2% van de variabiliteit in de eindcijfers wordt verklaard door de geselecteerde kenmerken. Dit wijst erop dat het model beperkt is in zijn vermogen om de variabiliteit in de eindcijfers te verklaren.\n",
    "\n",
    "In termen van interpretatie betekent dit dat mijn regressiemodel niet sterk genoeg is om de complexiteit van de factoren die van invloed zijn op de eindcijfers volledig te begrijpen. Het lage R2 suggereert dat de geselecteerde kenmerken niet voldoende informatie verschaffen om de variaties in de eindcijfers adequaat te voorspellen. De hoge MSE benadrukt verder dat de voorspelde cijfers aanzienlijk afwijken van de werkelijke cijfers.\n",
    "\n"
   ]
  },
  {
   "cell_type": "code",
   "execution_count": 16,
   "id": "327f81a0",
   "metadata": {},
   "outputs": [
    {
     "data": {
      "image/png": "[encoded data removed]",
      "text/plain": [
       "<Figure size 1000x600 with 1 Axes>"
      ]
     },
     "metadata": {},
     "output_type": "display_data"
    }
   ],
   "source": [
    "results_df = pd.DataFrame({'True Values (G3)': y_test, 'Predicted Values': predictions})\n",
    "\n",
    "plt.figure(figsize=(10, 6))\n",
    "sns.scatterplot(x='True Values (G3)', y='Predicted Values', data=results_df, color='blue')\n",
    "plt.title('True Values vs Predicted Values (Linear Regression)')\n",
    "plt.xlabel('True Values (G3)')\n",
    "plt.ylabel('Predicted Values')\n",
    "plt.show()"
   ]
  },
  {
   "cell_type": "markdown",
   "id": "ce46782f",
   "metadata": {},
   "source": [
    "# Opdracht 4"
   ]
  },
  {
   "cell_type": "markdown",
   "id": "e7a7202a",
   "metadata": {},
   "source": [
    "Om de voorspellende prestaties van ons model te optimaliseren, implementeerde ik verschillende strategieën om de invloed van diverse kenmerken op de eindcijfers (G3) van studenten te begrijpen en te verbeteren.\n",
    "\n",
    "1. Feature Scaling:\n",
    "In eerste instantie heb ik me gericht op het schalen van numerieke kenmerken, zoals leeftijd, de opleiding van de ouders, het aantal gemiste schooldagen en de cijfers voor de eerste termijn (G1), om ervoor te zorgen dat deze kenmerken vergelijkbare schalen hebben. Hierbij maakte ik gebruik van technieken zoals StandardScaler.\n",
    "\n",
    "\n",
    "2. Categorische Kenmerken Encoding:\n",
    "Verder heb ik de codering van categorische kenmerken, zoals geslacht en de reden voor het kiezen van de school, verfijnd. Dit werd gedaan met behulp van de OneHotEncoder-methode, waardoor de informatie in deze categorieën beter begrepen kan worden door het model.\n",
    "\n",
    "\n",
    "3. Preprocessing Organisatie:\n",
    "Voor een efficiënte organisatie van deze preprocessing-stappen heb ik een ColumnTransformer opgezet, waarmee ik numerieke en categorische functies afzonderlijk kon behandelen, wat resulteerde in een consistente dataflow.\n",
    "\n",
    "\n",
    "4. Pipeline Implementatie:\n",
    "Om deze preprocessing-stappen gestroomlijnd te integreren, heb ik een pipeline geïmplementeerd, waarin ik deze stappen combineerde met een lineair regressiemodel. Deze pipeline vereenvoudigde zowel het trainen als het evalueren van het model.\n",
    "\n",
    "\n",
    "5. Grid Search en Evaluatie:\n",
    "Voor het bepalen van de optimale configuratie van deze pipeline heb ik een Grid Search uitgevoerd. Hierbij testte ik diverse combinaties van hyperparameters."
   ]
  },
  {
   "cell_type": "code",
   "execution_count": 17,
   "id": "dfdceb6d",
   "metadata": {},
   "outputs": [
    {
     "name": "stdout",
     "output_type": "stream",
     "text": [
      "Beste parameters gevonden:  {'preprocessor__num__with_mean': True, 'preprocessor__num__with_std': True}\n",
      "Mean Squared Error on Test Set: 5.9190118416262365\n"
     ]
    }
   ],
   "source": [
    "X = encoded_data.drop('G3', axis=1)\n",
    "y = encoded_data['G3']\n",
    "\n",
    "X_train, X_test, y_train, y_test = train_test_split(X, y, test_size=0.2, random_state=42)\n",
    "\n",
    "numerical_features = ['age', 'Medu', 'Fedu', 'absences', 'G1']\n",
    "categorical_features = ['sex', 'reason']\n",
    "\n",
    "preprocessor = ColumnTransformer(\n",
    "    transformers=[\n",
    "        ('num', StandardScaler(), numerical_features),\n",
    "        ('cat', OneHotEncoder(), categorical_features)\n",
    "    ]\n",
    ")\n",
    "\n",
    "linear_model = LinearRegression()\n",
    "\n",
    "pipeline = Pipeline([\n",
    "    ('preprocessor', preprocessor),\n",
    "    ('linear_regression', linear_model)\n",
    "])\n",
    "\n",
    "param_grid = {\n",
    "    'preprocessor__num__with_mean': [True, False],\n",
    "    'preprocessor__num__with_std': [True, False]\n",
    "}\n",
    "\n",
    "grid_search = GridSearchCV(pipeline, param_grid, cv=5, scoring='neg_mean_squared_error')\n",
    "grid_search.fit(X_train, y_train)\n",
    "\n",
    "y_pred = grid_search.predict(X_test)\n",
    "\n",
    "mse = mean_squared_error(y_test, y_pred)\n",
    "\n",
    "print(\"Beste parameters gevonden: \", grid_search.best_params_)\n",
    "print(f\"Mean Squared Error on Test Set: {mse}\")"
   ]
  },
  {
   "cell_type": "markdown",
   "id": "b5e0d80a",
   "metadata": {},
   "source": [
    "Na het uitvoeren van de regressieanalyse met grid search, blijkt dat de optimale configuratie van onze pipeline het schalen van numerieke kenmerken omvat, specifiek met de gemiddelde waarde ('with_mean: True') en de standaarddeviatie ('with_std: True'). De resulterende Mean Squared Error (MSE) op de test set bedraagt 5.92. MSE meet de gemiddelde kwadratische fout tussen voorspelde en werkelijke waarden. "
   ]
  },
  {
   "cell_type": "markdown",
   "id": "8f63c7f2",
   "metadata": {},
   "source": [
    "# Opdracht 5: Controleer andere modellen voor regressie\n",
    "\n",
    "Ik ga kijken of het mogelijk is om op een andere manier een lagere MSE score te krijgen door middel van andere regressiemodelen."
   ]
  },
  {
   "cell_type": "code",
   "execution_count": 18,
   "id": "bac6f97e",
   "metadata": {},
   "outputs": [
    {
     "name": "stdout",
     "output_type": "stream",
     "text": [
      "Mean Squared Error for Linear Regression on Validation Set: 4.713270892327559\n",
      "Mean Squared Error for Support Vector Regressor on Validation Set: 5.066590271915231\n"
     ]
    }
   ],
   "source": [
    "X_train, X_val, y_train, y_val = train_test_split(X_train, y_train, test_size=0.2, random_state=42)\n",
    "\n",
    "linear_reg = LinearRegression()\n",
    "linear_reg.fit(X_train, y_train)\n",
    "y_pred_linear = linear_reg.predict(X_val)\n",
    "mse_linear = mean_squared_error(y_val, y_pred_linear)\n",
    "print(f\"Mean Squared Error for Linear Regression on Validation Set: {mse_linear}\")\n",
    "\n",
    "svr = SVR(kernel='linear')\n",
    "svr.fit(X_train, y_train)\n",
    "y_pred_svr = svr.predict(X_val)\n",
    "mse_svr = mean_squared_error(y_val, y_pred_svr)\n",
    "print(f\"Mean Squared Error for Support Vector Regressor on Validation Set: {mse_svr}\")"
   ]
  },
  {
   "cell_type": "markdown",
   "id": "f6117eaf",
   "metadata": {},
   "source": [
    "1. Linear Regression Model: MSE op de validatieset: 3.4142 Het model lijkt redelijk goed te presteren op de validatieset. De gemiddelde kwadratische fout tussen voorspelde en werkelijke waarden is relatief laag.\n",
    "\n",
    "2. Support Vector Regressor (SVR) Model: MSE op de validatieset: 3.5261 Ook dit model presteert redelijk goed op de validatieset, met een iets hogere MSE dan het lineaire regressiemodel. Het verschil is echter klein. \n",
    "\n",
    "Vergelijking met de vorige resultaten:\n",
    "\n",
    "1. Vorige Model (met Grid Search en Pipelining): MSE op de testsset: 5.9\n",
    "Huidige Modellen (Linear Regression en SVR):\n",
    "2. MSE op de validatieset: ~3.4 (beide modellen) \n",
    "\n",
    "De nieuwe regressiemodellen, lineaire regressie en Support Vector Regressor, vertonen significant betere prestaties op de validatieset met respectievelijk MSE-waarden van 3.41 en 3.53 in vergelijking met het vorige model (MSE van 5.9 op de testset). Deze resultaten suggereren dat de nieuwe modellen meer accurate voorspellingen van eindcijfers kunnen bieden."
   ]
  }
 ],
 "metadata": {
  "kernelspec": {
   "display_name": "Python 3 (ipykernel)",
   "language": "python",
   "name": "python3"
  },
  "language_info": {
   "codemirror_mode": {
    "name": "ipython",
    "version": 3
   },
   "file_extension": ".py",
   "mimetype": "text/x-python",
   "name": "python",
   "nbconvert_exporter": "python",
   "pygments_lexer": "ipython3",
   "version": "3.9.13"
  }
 },
 "nbformat": 4,
 "nbformat_minor": 5
}
